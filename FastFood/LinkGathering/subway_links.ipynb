{
 "cells": [
  {
   "cell_type": "code",
   "execution_count": 1,
   "metadata": {},
   "outputs": [],
   "source": [
    "import requests\n",
    "from bs4 import BeautifulSoup\n",
    "from time import sleep\n",
    "from tqdm.notebook import tqdm, trange\n",
    "import pickle"
   ]
  },
  {
   "cell_type": "code",
   "execution_count": 2,
   "metadata": {},
   "outputs": [],
   "source": [
    "headers = {\n",
    "    \"Access-Control-Allow-Origin\": \"*\",\n",
    "    \"Access-Control-Allow-Methods\": \"GET\",\n",
    "    \"Access-Control-Allow-Headers\": \"Content-Type\",\n",
    "    \"Access-Control-Max-Age\": \"3600\",\n",
    "    \"User-Agent\": \"Mozilla/5.0 (X11; Ubuntu; Linux x86_64; rv:52.0) Gecko/20100101 Firefox/52.0\",\n",
    "}"
   ]
  },
  {
   "cell_type": "code",
   "execution_count": 3,
   "metadata": {},
   "outputs": [],
   "source": [
    "store_url = \"https://restaurants.subway.com/united-states\"\n",
    "loc_url = \"https://restaurants.subway.com/\""
   ]
  },
  {
   "cell_type": "code",
   "execution_count": 4,
   "metadata": {},
   "outputs": [],
   "source": [
    "link_dic = {}"
   ]
  },
  {
   "cell_type": "code",
   "execution_count": 5,
   "metadata": {},
   "outputs": [],
   "source": [
    "page = requests.get(store_url, headers)\n",
    "soup = BeautifulSoup(page.content, \"html.parser\")\n",
    "loclist = soup.find(class_=\"Directory-listLinks\")"
   ]
  },
  {
   "cell_type": "code",
   "execution_count": null,
   "metadata": {},
   "outputs": [],
   "source": [
    "state_html = []\n",
    "for li in loclist.find_all(\"li\"):\n",
    "    a = li.find(class_=\"Directory-listLink\")\n",
    "    if a[\"href\"][-2:] != 'ns':\n",
    "        link_dic[a[\"href\"][-2:]] = []\n",
    "        state_html.append(loc_url+a[\"href\"])"
   ]
  },
  {
   "cell_type": "code",
   "execution_count": 9,
   "metadata": {},
   "outputs": [
    {
     "name": "stdout",
     "output_type": "stream",
     "text": [
      "{'al': [], 'ak': [], 'az': [], 'ar': [], 'ca': [], 'co': [], 'ct': [], 'de': [], 'fl': [], 'ga': [], 'hi': [], 'id': [], 'il': [], 'in': [], 'ia': [], 'ks': [], 'ky': [], 'la': [], 'me': [], 'md': [], 'ma': [], 'mi': [], 'mn': [], 'ms': [], 'mo': [], 'mt': [], 'ne': [], 'nv': [], 'nh': [], 'nj': [], 'nm': [], 'ny': [], 'nc': [], 'nd': [], 'oh': [], 'ok': [], 'or': [], 'pa': [], 'ri': [], 'sc': [], 'sd': [], 'tn': [], 'tx': [], 'ut': [], 'vt': [], 'va': [], 'wa': [], 'dc': [], 'wv': [], 'wi': [], 'wy': []}\n"
     ]
    }
   ],
   "source": [
    "print(link_dic)\n"
   ]
  },
  {
   "cell_type": "code",
   "execution_count": null,
   "metadata": {},
   "outputs": [],
   "source": [
    "print(len(state_html))\n",
    "for i in state_html:\n",
    "    print(i)"
   ]
  },
  {
   "cell_type": "code",
   "execution_count": 20,
   "metadata": {},
   "outputs": [
    {
     "data": {
      "application/vnd.jupyter.widget-view+json": {
       "model_id": "d3adbc1efa834d9a86b9aa6c390b0fc7",
       "version_major": 2,
       "version_minor": 0
      },
      "text/plain": [
       "  0%|          | 0/51 [00:00<?, ?it/s]"
      ]
     },
     "metadata": {},
     "output_type": "display_data"
    }
   ],
   "source": [
    "store_href = []\n",
    "loop = tqdm(state_html)\n",
    "\n",
    "for state in loop:\n",
    "    loop.set_description(f\"working on {state}\")\n",
    "\n",
    "    st_page = requests.get(state, headers)\n",
    "    st_soup = BeautifulSoup(st_page.content, \"html.parser\")\n",
    "    st_list = st_soup.find(class_=\"Directory-listLinks\")\n",
    "\n",
    "    for links in st_list.find_all(\"li\"):\n",
    "        g = links.find(class_=\"Directory-listLink\")\n",
    "        store_href.append(g[\"href\"][3:])\n",
    "    sleep(0.5)"
   ]
  },
  {
   "cell_type": "code",
   "execution_count": 27,
   "metadata": {},
   "outputs": [
    {
     "name": "stdout",
     "output_type": "stream",
     "text": [
      "['united-states/al/adamsville', 'united-states/al/alabaster', 'united-states/al/albertville/7343-highway-431', 'united-states/al/alexander-city/875-market-place', 'united-states/al/alexandria/intersec-of-us-431-&-gladden', 'united-states/al/aliceville/300-2nd-street-nw', 'united-states/al/andalusia', 'united-states/al/anniston', 'united-states/al/arab']\n"
     ]
    }
   ],
   "source": [
    "print(store_href[1:10])"
   ]
  },
  {
   "cell_type": "code",
   "execution_count": null,
   "metadata": {},
   "outputs": [],
   "source": [
    "city_list = []\n",
    "for i in store_href:\n",
    "    count = i.count('/')\n",
    "    if count == 2:\n",
    "        city_list.append(i)\n",
    "    elif count == 3:\n",
    "        link_dic[i[14:16]].append(loc_url+i)\n",
    "print(city_list)\n"
   ]
  },
  {
   "cell_type": "code",
   "execution_count": null,
   "metadata": {},
   "outputs": [],
   "source": [
    "for city,n in zip(city_list,range(len(city_list))):\n",
    "    city_list[n] = loc_url+city\n",
    "print(city_list)"
   ]
  },
  {
   "cell_type": "code",
   "execution_count": 37,
   "metadata": {},
   "outputs": [
    {
     "data": {
      "application/vnd.jupyter.widget-view+json": {
       "model_id": "0b97bfe9616c45548ab0c2b8d8a9bc14",
       "version_major": 2,
       "version_minor": 0
      },
      "text/plain": [
       "  0%|          | 0/3362 [00:00<?, ?it/s]"
      ]
     },
     "metadata": {},
     "output_type": "display_data"
    }
   ],
   "source": [
    "final_list = []\n",
    "loop1 = tqdm(city_list)\n",
    "\n",
    "for city_store in loop1:\n",
    "    loop1.set_description(f\"working on {city_store}\")\n",
    "\n",
    "    city_page = requests.get(city_store, headers)\n",
    "    city_soup = BeautifulSoup(city_page.content, \"html.parser\")\n",
    "    cities = city_soup.find_all(class_=\"Teaser-title\")\n",
    "\n",
    "    for links in cities:\n",
    "        final_list.append(links[\"href\"][6:])\n",
    "    sleep(0.28)"
   ]
  },
  {
   "cell_type": "code",
   "execution_count": 43,
   "metadata": {},
   "outputs": [
    {
     "name": "stdout",
     "output_type": "stream",
     "text": [
      "united-states/al/adamsville/4024-veterans-memorial-hwy\n"
     ]
    }
   ],
   "source": [
    "print(final_list[1])"
   ]
  },
  {
   "cell_type": "code",
   "execution_count": 44,
   "metadata": {},
   "outputs": [],
   "source": [
    "for i in final_list:\n",
    "    link_dic[i[14:16]].append(loc_url+i)"
   ]
  },
  {
   "cell_type": "code",
   "execution_count": null,
   "metadata": {},
   "outputs": [],
   "source": [
    "print(link_dic)"
   ]
  },
  {
   "cell_type": "code",
   "execution_count": 46,
   "metadata": {},
   "outputs": [
    {
     "name": "stdout",
     "output_type": "stream",
     "text": [
      "22933\n",
      "{'al': 415, 'ak': 62, 'az': 411, 'ar': 263, 'ca': 2310, 'co': 395, 'ct': 300, 'de': 24, 'fl': 1345, 'ga': 773, 'hi': 105, 'id': 124, 'il': 1037, 'in': 597, 'ia': 288, 'ks': 235, 'ky': 389, 'la': 450, 'me': 108, 'md': 435, 'ma': 328, 'mi': 844, 'mn': 426, 'ms': 296, 'mo': 494, 'mt': 80, 'ne': 190, 'nv': 198, 'nh': 90, 'nj': 216, 'nm': 164, 'ny': 902, 'nc': 769, 'nd': 68, 'oh': 1057, 'ok': 349, 'or': 276, 'pa': 753, 'ri': 68, 'sc': 370, 'sd': 94, 'tn': 582, 'tx': 1987, 'ut': 198, 'vt': 46, 'va': 636, 'wa': 545, 'dc': 62, 'wv': 178, 'wi': 541, 'wy': 60}\n"
     ]
    }
   ],
   "source": [
    "key_to_value_lengths = {k:len(v) for k, v in link_dic.items()}\n",
    "print(sum([len(x) for x in link_dic.values()]))\n",
    "print(key_to_value_lengths)"
   ]
  },
  {
   "cell_type": "code",
   "execution_count": null,
   "metadata": {},
   "outputs": [],
   "source": [
    "print(link_dic[\"nm\"])"
   ]
  },
  {
   "cell_type": "code",
   "execution_count": 145,
   "metadata": {},
   "outputs": [],
   "source": [
    "with open('/Users/benperry/Documents/Python/FastFood/LinkDicts/subway.pkl', 'wb') as f:\n",
    "    pickle.dump(link_dic, f)"
   ]
  }
 ],
 "metadata": {
  "interpreter": {
   "hash": "3c45fb9862e51581e90d32eb5601e3b34a34137741e0832672dd7f3c4f079504"
  },
  "kernelspec": {
   "display_name": "Python 3.9.5 ('.venv': venv)",
   "language": "python",
   "name": "python3"
  },
  "language_info": {
   "codemirror_mode": {
    "name": "ipython",
    "version": 3
   },
   "file_extension": ".py",
   "mimetype": "text/x-python",
   "name": "python",
   "nbconvert_exporter": "python",
   "pygments_lexer": "ipython3",
   "version": "3.9.5"
  },
  "orig_nbformat": 4
 },
 "nbformat": 4,
 "nbformat_minor": 2
}
