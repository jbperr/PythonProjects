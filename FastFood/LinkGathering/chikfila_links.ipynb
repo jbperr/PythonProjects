{
 "cells": [
  {
   "cell_type": "code",
   "execution_count": 1,
   "metadata": {},
   "outputs": [],
   "source": [
    "import requests\n",
    "from bs4 import BeautifulSoup\n",
    "from time import sleep\n",
    "from tqdm.notebook import tqdm, trange\n",
    "import pickle"
   ]
  },
  {
   "cell_type": "code",
   "execution_count": 2,
   "metadata": {},
   "outputs": [],
   "source": [
    "headers = {\n",
    "    \"Access-Control-Allow-Origin\": \"*\",\n",
    "    \"Access-Control-Allow-Methods\": \"GET\",\n",
    "    \"Access-Control-Allow-Headers\": \"Content-Type\",\n",
    "    \"Access-Control-Max-Age\": \"3600\",\n",
    "    \"User-Agent\": \"Mozilla/5.0 (X11; Ubuntu; Linux x86_64; rv:52.0) Gecko/20100101 Firefox/52.0\",\n",
    "}"
   ]
  },
  {
   "cell_type": "code",
   "execution_count": 50,
   "metadata": {},
   "outputs": [],
   "source": [
    "store_url = \"https://www.chick-fil-a.com/locations/browse\"\n",
    "loc_url = \"https://www.chick-fil-a.com/\""
   ]
  },
  {
   "cell_type": "code",
   "execution_count": 51,
   "metadata": {},
   "outputs": [],
   "source": [
    "link_dic = {}"
   ]
  },
  {
   "cell_type": "code",
   "execution_count": 9,
   "metadata": {},
   "outputs": [],
   "source": [
    "page = requests.get(store_url, headers)\n",
    "soup = BeautifulSoup(page.content, \"html.parser\")\n",
    "loclist = soup.find(class_=\"frame\")"
   ]
  },
  {
   "cell_type": "code",
   "execution_count": 21,
   "metadata": {},
   "outputs": [
    {
     "name": "stdout",
     "output_type": "stream",
     "text": [
      "[]\n"
     ]
    }
   ],
   "source": [
    "print(loclist.find(class_=\"wrapper\").find_all(\"li\"))"
   ]
  },
  {
   "cell_type": "code",
   "execution_count": null,
   "metadata": {},
   "outputs": [],
   "source": [
    "state_html = []\n",
    "for li in loclist.find_all(\"li\"):\n",
    "    if len(li.a[\"href\"]) == 20 and (li.a[\"href\"]).count('/') == 3:\n",
    "        link_dic[li.a[\"href\"][-2:]] = []\n",
    "        state_html.append(loc_url+li.a[\"href\"][1:])"
   ]
  },
  {
   "cell_type": "code",
   "execution_count": 53,
   "metadata": {},
   "outputs": [
    {
     "name": "stdout",
     "output_type": "stream",
     "text": [
      "{'al': [], 'az': [], 'ar': [], 'ca': [], 'co': [], 'ct': [], 'de': [], 'fl': [], 'ga': [], 'id': [], 'il': [], 'in': [], 'ia': [], 'ks': [], 'ky': [], 'la': [], 'me': [], 'md': [], 'ma': [], 'mi': [], 'mn': [], 'ms': [], 'mo': [], 'mt': [], 'ne': [], 'nv': [], 'nh': [], 'nj': [], 'nm': [], 'ny': [], 'nc': [], 'nd': [], 'oh': [], 'ok': [], 'or': [], 'pa': [], 'ri': [], 'sc': [], 'sd': [], 'tn': [], 'tx': [], 'ut': [], 'va': [], 'dc': [], 'wa': [], 'wv': [], 'wi': [], 'wy': []}\n"
     ]
    }
   ],
   "source": [
    "print(link_dic)\n"
   ]
  },
  {
   "cell_type": "code",
   "execution_count": 54,
   "metadata": {},
   "outputs": [
    {
     "name": "stdout",
     "output_type": "stream",
     "text": [
      "48\n",
      "https://www.chick-fil-a.com/locations/browse/al\n",
      "https://www.chick-fil-a.com/locations/browse/az\n",
      "https://www.chick-fil-a.com/locations/browse/ar\n",
      "https://www.chick-fil-a.com/locations/browse/ca\n",
      "https://www.chick-fil-a.com/locations/browse/co\n",
      "https://www.chick-fil-a.com/locations/browse/ct\n",
      "https://www.chick-fil-a.com/locations/browse/de\n",
      "https://www.chick-fil-a.com/locations/browse/fl\n",
      "https://www.chick-fil-a.com/locations/browse/ga\n",
      "https://www.chick-fil-a.com/locations/browse/id\n",
      "https://www.chick-fil-a.com/locations/browse/il\n",
      "https://www.chick-fil-a.com/locations/browse/in\n",
      "https://www.chick-fil-a.com/locations/browse/ia\n",
      "https://www.chick-fil-a.com/locations/browse/ks\n",
      "https://www.chick-fil-a.com/locations/browse/ky\n",
      "https://www.chick-fil-a.com/locations/browse/la\n",
      "https://www.chick-fil-a.com/locations/browse/me\n",
      "https://www.chick-fil-a.com/locations/browse/md\n",
      "https://www.chick-fil-a.com/locations/browse/ma\n",
      "https://www.chick-fil-a.com/locations/browse/mi\n",
      "https://www.chick-fil-a.com/locations/browse/mn\n",
      "https://www.chick-fil-a.com/locations/browse/ms\n",
      "https://www.chick-fil-a.com/locations/browse/mo\n",
      "https://www.chick-fil-a.com/locations/browse/mt\n",
      "https://www.chick-fil-a.com/locations/browse/ne\n",
      "https://www.chick-fil-a.com/locations/browse/nv\n",
      "https://www.chick-fil-a.com/locations/browse/nh\n",
      "https://www.chick-fil-a.com/locations/browse/nj\n",
      "https://www.chick-fil-a.com/locations/browse/nm\n",
      "https://www.chick-fil-a.com/locations/browse/ny\n",
      "https://www.chick-fil-a.com/locations/browse/nc\n",
      "https://www.chick-fil-a.com/locations/browse/nd\n",
      "https://www.chick-fil-a.com/locations/browse/oh\n",
      "https://www.chick-fil-a.com/locations/browse/ok\n",
      "https://www.chick-fil-a.com/locations/browse/or\n",
      "https://www.chick-fil-a.com/locations/browse/pa\n",
      "https://www.chick-fil-a.com/locations/browse/ri\n",
      "https://www.chick-fil-a.com/locations/browse/sc\n",
      "https://www.chick-fil-a.com/locations/browse/sd\n",
      "https://www.chick-fil-a.com/locations/browse/tn\n",
      "https://www.chick-fil-a.com/locations/browse/tx\n",
      "https://www.chick-fil-a.com/locations/browse/ut\n",
      "https://www.chick-fil-a.com/locations/browse/va\n",
      "https://www.chick-fil-a.com/locations/browse/dc\n",
      "https://www.chick-fil-a.com/locations/browse/wa\n",
      "https://www.chick-fil-a.com/locations/browse/wv\n",
      "https://www.chick-fil-a.com/locations/browse/wi\n",
      "https://www.chick-fil-a.com/locations/browse/wy\n"
     ]
    }
   ],
   "source": [
    "print(len(state_html))\n",
    "for i in state_html:\n",
    "    print(i)"
   ]
  },
  {
   "cell_type": "code",
   "execution_count": 37,
   "metadata": {},
   "outputs": [
    {
     "name": "stdout",
     "output_type": "stream",
     "text": [
      "locations/browse/az\n"
     ]
    }
   ],
   "source": [
    "print(state_html[1][1:])"
   ]
  },
  {
   "cell_type": "code",
   "execution_count": 60,
   "metadata": {},
   "outputs": [
    {
     "data": {
      "application/vnd.jupyter.widget-view+json": {
       "model_id": "f907d1d360624b2c991c82244a8467b2",
       "version_major": 2,
       "version_minor": 0
      },
      "text/plain": [
       "  0%|          | 0/48 [00:00<?, ?it/s]"
      ]
     },
     "metadata": {},
     "output_type": "display_data"
    }
   ],
   "source": [
    "store_href = []\n",
    "loop = tqdm(state_html)\n",
    "\n",
    "for state in loop:\n",
    "    loop.set_description(f\"working on {state}\")\n",
    "\n",
    "    st_page = requests.get(state, headers)\n",
    "    st_soup = BeautifulSoup(st_page.content, \"html.parser\")\n",
    "    st_list = st_soup.find(class_=\"state-locations-list\")\n",
    "\n",
    "    for links in st_list.find_all(class_=\"location\"):\n",
    "        store_href.append(links.a[\"href\"][1:])\n",
    "    sleep(0.5)"
   ]
  },
  {
   "cell_type": "code",
   "execution_count": 64,
   "metadata": {},
   "outputs": [
    {
     "name": "stdout",
     "output_type": "stream",
     "text": [
      "locations/al/airport-blvd-al\n"
     ]
    }
   ],
   "source": [
    "print(store_href[1])"
   ]
  },
  {
   "cell_type": "code",
   "execution_count": 65,
   "metadata": {},
   "outputs": [],
   "source": [
    "city_list = store_href\n"
   ]
  },
  {
   "cell_type": "code",
   "execution_count": null,
   "metadata": {},
   "outputs": [],
   "source": [
    "for city,n in zip(city_list,range(len(city_list))):\n",
    "    city_list[n] = loc_url+city\n",
    "print(city_list)"
   ]
  },
  {
   "cell_type": "code",
   "execution_count": 67,
   "metadata": {},
   "outputs": [],
   "source": [
    "final_list = city_list"
   ]
  },
  {
   "cell_type": "code",
   "execution_count": 71,
   "metadata": {},
   "outputs": [
    {
     "name": "stdout",
     "output_type": "stream",
     "text": [
      "al\n"
     ]
    }
   ],
   "source": [
    "print(final_list[1][38:40])"
   ]
  },
  {
   "cell_type": "code",
   "execution_count": 72,
   "metadata": {},
   "outputs": [],
   "source": [
    "for i in final_list:\n",
    "    link_dic[i[38:40]].append(i)"
   ]
  },
  {
   "cell_type": "code",
   "execution_count": null,
   "metadata": {},
   "outputs": [],
   "source": [
    "print(link_dic)"
   ]
  },
  {
   "cell_type": "code",
   "execution_count": null,
   "metadata": {},
   "outputs": [],
   "source": [
    "key_to_value_lengths = {k:len(v) for k, v in link_dic.items()}\n",
    "print(sum([len(x) for x in link_dic.values()]))\n",
    "print(key_to_value_lengths)"
   ]
  },
  {
   "cell_type": "code",
   "execution_count": null,
   "metadata": {},
   "outputs": [],
   "source": [
    "print(link_dic[\"nm\"])"
   ]
  },
  {
   "cell_type": "code",
   "execution_count": 145,
   "metadata": {},
   "outputs": [],
   "source": [
    "with open('/Users/benperry/Documents/Python/FastFood/LinkDicts/chikfila.pkl', 'wb') as f:\n",
    "    pickle.dump(link_dic, f)"
   ]
  }
 ],
 "metadata": {
  "interpreter": {
   "hash": "3c45fb9862e51581e90d32eb5601e3b34a34137741e0832672dd7f3c4f079504"
  },
  "kernelspec": {
   "display_name": "Python 3.9.5 ('.venv': venv)",
   "language": "python",
   "name": "python3"
  },
  "language_info": {
   "codemirror_mode": {
    "name": "ipython",
    "version": 3
   },
   "file_extension": ".py",
   "mimetype": "text/x-python",
   "name": "python",
   "nbconvert_exporter": "python",
   "pygments_lexer": "ipython3",
   "version": "3.9.5"
  },
  "orig_nbformat": 4
 },
 "nbformat": 4,
 "nbformat_minor": 2
}
