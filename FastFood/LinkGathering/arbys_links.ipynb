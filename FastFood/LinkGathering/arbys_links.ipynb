{
 "cells": [
  {
   "cell_type": "code",
   "execution_count": null,
   "metadata": {},
   "outputs": [],
   "source": [
    "import requests\n",
    "from bs4 import BeautifulSoup\n",
    "from time import sleep\n",
    "from tqdm.notebook import tqdm, trange\n",
    "import pickle"
   ]
  },
  {
   "cell_type": "code",
   "execution_count": null,
   "metadata": {},
   "outputs": [],
   "source": [
    "headers = {\n",
    "    \"Access-Control-Allow-Origin\": \"*\",\n",
    "    \"Access-Control-Allow-Methods\": \"GET\",\n",
    "    \"Access-Control-Allow-Headers\": \"Content-Type\",\n",
    "    \"Access-Control-Max-Age\": \"3600\",\n",
    "    \"User-Agent\": \"Mozilla/5.0 (X11; Ubuntu; Linux x86_64; rv:52.0) Gecko/20100101 Firefox/52.0\",\n",
    "}"
   ]
  },
  {
   "cell_type": "code",
   "execution_count": null,
   "metadata": {},
   "outputs": [],
   "source": [
    "store_url = \"https://locations.arbys.com/\"\n",
    "loc_url = \"https://locations.arbys.com/\""
   ]
  },
  {
   "cell_type": "code",
   "execution_count": null,
   "metadata": {},
   "outputs": [],
   "source": [
    "link_dic = {}"
   ]
  },
  {
   "cell_type": "code",
   "execution_count": null,
   "metadata": {},
   "outputs": [],
   "source": [
    "page = requests.get(store_url, headers)\n",
    "soup = BeautifulSoup(page.content, \"html.parser\")\n",
    "loclist = soup.find(class_=\"browse mb-50\")"
   ]
  },
  {
   "cell_type": "code",
   "execution_count": null,
   "metadata": {},
   "outputs": [],
   "source": [
    "state_html = []\n",
    "for li in loclist.find_all(class_=\"ga-link\"):\n",
    "    link_dic[li[\"href\"][-3:-1]] = []\n",
    "\n",
    "    state_html.append(li[\"href\"])"
   ]
  },
  {
   "cell_type": "code",
   "execution_count": null,
   "metadata": {},
   "outputs": [],
   "source": [
    "print(link_dic)"
   ]
  },
  {
   "cell_type": "code",
   "execution_count": null,
   "metadata": {},
   "outputs": [],
   "source": [
    "print(len(state_html))\n",
    "for i in state_html:\n",
    "    print(i)"
   ]
  },
  {
   "cell_type": "code",
   "execution_count": null,
   "metadata": {},
   "outputs": [],
   "source": [
    "store_href = []\n",
    "loop = tqdm(state_html)\n",
    "\n",
    "for state in loop:\n",
    "    loop.set_description(f\"working on {state}\")\n",
    "\n",
    "    st_page = requests.get(state, headers)\n",
    "    st_soup = BeautifulSoup(st_page.content, \"html.parser\")\n",
    "    st_list = st_soup.find(class_=\"browse mb-50 mb-xs-30\")\n",
    "\n",
    "    for links in st_list.find_all(class_=\"ga-link\"):\n",
    "        store_href.append(links[\"href\"])\n",
    "    sleep(0.5)"
   ]
  },
  {
   "cell_type": "code",
   "execution_count": null,
   "metadata": {},
   "outputs": [],
   "source": [
    "print(store_href[1][28:30])"
   ]
  },
  {
   "cell_type": "code",
   "execution_count": null,
   "metadata": {},
   "outputs": [],
   "source": [
    "city_list = store_href\n",
    "print(city_list)"
   ]
  },
  {
   "cell_type": "code",
   "execution_count": null,
   "metadata": {},
   "outputs": [],
   "source": [
    "final_list = []\n",
    "loop1 = tqdm(city_list)\n",
    "\n",
    "for city_store in loop1:\n",
    "    loop1.set_description(f\"working on {city_store}\")\n",
    "\n",
    "    city_page = requests.get(city_store, headers)\n",
    "    city_soup = BeautifulSoup(city_page.content, \"html.parser\")\n",
    "    cities = city_soup.find_all(class_=\"location-name ga-link\")\n",
    "\n",
    "    for links in cities:\n",
    "        final_list.append(links[\"href\"])\n",
    "    sleep(0.5)"
   ]
  },
  {
   "cell_type": "code",
   "execution_count": null,
   "metadata": {},
   "outputs": [],
   "source": [
    "print(final_list[1])"
   ]
  },
  {
   "cell_type": "code",
   "execution_count": null,
   "metadata": {},
   "outputs": [],
   "source": [
    "for i in final_list:\n",
    "    link_dic[i[28:30]].append(i)"
   ]
  },
  {
   "cell_type": "code",
   "execution_count": null,
   "metadata": {},
   "outputs": [],
   "source": [
    "print(link_dic)"
   ]
  },
  {
   "cell_type": "code",
   "execution_count": null,
   "metadata": {},
   "outputs": [],
   "source": [
    "key_to_value_lengths = {k:len(v) for k, v in link_dic.items()}\n",
    "print(sum([len(x) for x in link_dic.values()]))\n",
    "print(key_to_value_lengths)"
   ]
  },
  {
   "cell_type": "code",
   "execution_count": null,
   "metadata": {},
   "outputs": [],
   "source": [
    "print(link_dic[\"nm\"])"
   ]
  },
  {
   "cell_type": "code",
   "execution_count": null,
   "metadata": {},
   "outputs": [],
   "source": [
    "with open('/Users/benperry/Documents/Python/FastFood/LinkDicts/arbys.pkl', 'wb') as f:\n",
    "    pickle.dump(link_dic, f)"
   ]
  }
 ],
 "metadata": {
  "interpreter": {
   "hash": "3c45fb9862e51581e90d32eb5601e3b34a34137741e0832672dd7f3c4f079504"
  },
  "kernelspec": {
   "display_name": "Python 3.9.5 ('.venv': venv)",
   "language": "python",
   "name": "python3"
  },
  "language_info": {
   "codemirror_mode": {
    "name": "ipython",
    "version": 3
   },
   "file_extension": ".py",
   "mimetype": "text/x-python",
   "name": "python",
   "nbconvert_exporter": "python",
   "pygments_lexer": "ipython3",
   "version": "3.9.5"
  },
  "orig_nbformat": 4
 },
 "nbformat": 4,
 "nbformat_minor": 2
}
