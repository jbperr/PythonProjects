{
 "cells": [
  {
   "cell_type": "code",
   "execution_count": 1,
   "metadata": {},
   "outputs": [],
   "source": [
    "import requests\n",
    "from bs4 import BeautifulSoup\n",
    "from time import sleep\n",
    "from tqdm.notebook import tqdm, trange\n",
    "import pickle"
   ]
  },
  {
   "cell_type": "code",
   "execution_count": null,
   "metadata": {},
   "outputs": [],
   "source": [
    "### WORKS\n",
    "# chipotle, kfc, pizza hut, whataburger, churches, carls jr, \n",
    "### SLIGHT CHANGES TO HTML TAG NAMES OR VARIABLES\n",
    "#  qdoba, jack in the box, papa johns, panera"
   ]
  },
  {
   "cell_type": "code",
   "execution_count": 2,
   "metadata": {},
   "outputs": [],
   "source": [
    "headers = {\n",
    "    \"Access-Control-Allow-Origin\": \"*\",\n",
    "    \"Access-Control-Allow-Methods\": \"GET\",\n",
    "    \"Access-Control-Allow-Headers\": \"Content-Type\",\n",
    "    \"Access-Control-Max-Age\": \"3600\",\n",
    "    \"User-Agent\": \"Mozilla/5.0 (X11; Ubuntu; Linux x86_64; rv:52.0) Gecko/20100101 Firefox/52.0\",\n",
    "}"
   ]
  },
  {
   "cell_type": "code",
   "execution_count": 3,
   "metadata": {},
   "outputs": [],
   "source": [
    "store_url = \"https://www.pandaexpress.com/locations/\"\n",
    "loc_url = \"https://www.pandaexpress.com/\""
   ]
  },
  {
   "cell_type": "code",
   "execution_count": 102,
   "metadata": {},
   "outputs": [],
   "source": [
    "link_dic = {}"
   ]
  },
  {
   "cell_type": "code",
   "execution_count": 14,
   "metadata": {},
   "outputs": [],
   "source": [
    "page = requests.get(store_url, headers)\n",
    "soup = BeautifulSoup(page.content, \"html.parser\")\n",
    "loclist = soup.find(class_=\"locations_filter__content\")"
   ]
  },
  {
   "cell_type": "code",
   "execution_count": 104,
   "metadata": {},
   "outputs": [],
   "source": [
    "state_html = []\n",
    "for li in loclist.find_all(class_=\"record\"):\n",
    "    link_dic[li[\"href\"][-2:]] = []\n",
    "    if len(li[\"href\"]) > 50:\n",
    "        link_dic[li[\"href\"][:2]].append(loc_url+li[\"href\"][1:])\n",
    "    else:\n",
    "        state_html.append(loc_url+li[\"href\"][1:])"
   ]
  },
  {
   "cell_type": "code",
   "execution_count": 105,
   "metadata": {},
   "outputs": [
    {
     "name": "stdout",
     "output_type": "stream",
     "text": [
      "{'al': [], 'ak': [], 'az': [], 'ar': [], 'ca': [], 'co': [], 'ct': [], 'de': [], 'dc': [], 'fl': [], 'ga': [], 'gu': [], 'hi': [], 'id': [], 'il': [], 'in': [], 'ia': [], 'ks': [], 'ky': [], 'la': [], 'me': [], 'md': [], 'ma': [], 'mi': [], 'mn': [], 'ms': [], 'mo': [], 'mt': [], 'ne': [], 'nv': [], 'nh': [], 'nj': [], 'nm': [], 'ny': [], 'nc': [], 'nd': [], 'oh': [], 'ok': [], 'or': [], 'pa': [], 'pr': [], 'ri': [], 'sc': [], 'sd': [], 'tn': [], 'tx': [], 'ut': [], 'va': [], 'wa': [], 'wv': [], 'wi': [], 'wy': []}\n"
     ]
    }
   ],
   "source": [
    "print(link_dic)\n"
   ]
  },
  {
   "cell_type": "code",
   "execution_count": null,
   "metadata": {},
   "outputs": [],
   "source": [
    "print(len(state_html))\n",
    "for i in state_html:\n",
    "    print(i)"
   ]
  },
  {
   "cell_type": "code",
   "execution_count": 63,
   "metadata": {},
   "outputs": [
    {
     "data": {
      "application/vnd.jupyter.widget-view+json": {
       "model_id": "fa0c60599f374f49949553568ec3ab36",
       "version_major": 2,
       "version_minor": 0
      },
      "text/plain": [
       "  0%|          | 0/52 [00:00<?, ?it/s]"
      ]
     },
     "metadata": {},
     "output_type": "display_data"
    }
   ],
   "source": [
    "store_href = []\n",
    "store_to_dict = []\n",
    "loop = tqdm(state_html)\n",
    "\n",
    "for state in loop:\n",
    "    loop.set_description(f\"working on {state}\")\n",
    "\n",
    "    st_page = requests.get(state, headers)\n",
    "    st_soup = BeautifulSoup(st_page.content, \"html.parser\")\n",
    "    st_list = st_soup.find(class_=\"locations_filter__content\")\n",
    "\n",
    "    for links in st_list.find_all(class_=\"record\"):\n",
    "        # print(links.text[-3:-2])\n",
    "        if links.text[-3:-2] == '1':\n",
    "            store_to_dict.append(links['href'])\n",
    "        else:\n",
    "            store_href.append(links[\"href\"])\n",
    "    sleep(0.5)"
   ]
  },
  {
   "cell_type": "code",
   "execution_count": 107,
   "metadata": {},
   "outputs": [
    {
     "name": "stdout",
     "output_type": "stream",
     "text": [
      "987\n",
      "349\n"
     ]
    }
   ],
   "source": [
    "print(len(store_to_dict))\n",
    "print(len(store_href))"
   ]
  },
  {
   "cell_type": "code",
   "execution_count": 96,
   "metadata": {},
   "outputs": [
    {
     "name": "stdout",
     "output_type": "stream",
     "text": [
      "al\n",
      "https://www.pandaexpress.com/locations/al/athens\n"
     ]
    }
   ],
   "source": [
    "print(store_to_dict[1][11:13])\n",
    "print(loc_url+store_to_dict[1][1:])\n"
   ]
  },
  {
   "cell_type": "code",
   "execution_count": 108,
   "metadata": {},
   "outputs": [],
   "source": [
    "for i in store_to_dict:\n",
    "    link_dic[i[11:13]].append(loc_url+i[1:])"
   ]
  },
  {
   "cell_type": "code",
   "execution_count": null,
   "metadata": {},
   "outputs": [],
   "source": []
  },
  {
   "cell_type": "code",
   "execution_count": 73,
   "metadata": {},
   "outputs": [
    {
     "name": "stdout",
     "output_type": "stream",
     "text": [
      "['/locations/al/florence', '/locations/al/mobile', '/locations/al/tuscaloosa', '/locations/ak/anchorage', '/locations/az/avondale', '/locations/az/bullhead-city', '/locations/az/casa-grande', '/locations/az/chandler', '/locations/az/gilbert']\n"
     ]
    }
   ],
   "source": [
    "print(store_href[1:10])"
   ]
  },
  {
   "cell_type": "code",
   "execution_count": null,
   "metadata": {},
   "outputs": [],
   "source": [
    "city_list = store_href\n",
    "print(city_list)"
   ]
  },
  {
   "cell_type": "code",
   "execution_count": null,
   "metadata": {},
   "outputs": [],
   "source": [
    "for city,n in zip(city_list,range(len(city_list))):\n",
    "    city_list[n] = loc_url+city[1:]\n",
    "print(city_list)"
   ]
  },
  {
   "cell_type": "code",
   "execution_count": 83,
   "metadata": {},
   "outputs": [
    {
     "data": {
      "application/vnd.jupyter.widget-view+json": {
       "model_id": "4813314a9d744bd7bdd440e31ea0404f",
       "version_major": 2,
       "version_minor": 0
      },
      "text/plain": [
       "  0%|          | 0/349 [00:00<?, ?it/s]"
      ]
     },
     "metadata": {},
     "output_type": "display_data"
    }
   ],
   "source": [
    "final_list = []\n",
    "loop1 = tqdm(city_list)\n",
    "\n",
    "for city_store in loop1:\n",
    "    loop1.set_description(f\"working on {city_store}\")\n",
    "\n",
    "    city_page = requests.get(city_store, headers)\n",
    "    city_soup = BeautifulSoup(city_page.content, \"html.parser\")\n",
    "    cities = city_soup.find(class_=\"locations_filter__content\")\n",
    "\n",
    "    for links in cities.find_all(class_=\"location_link\"):\n",
    "        final_list.append(links.a[\"href\"])\n",
    "    sleep(0.5)"
   ]
  },
  {
   "cell_type": "code",
   "execution_count": 111,
   "metadata": {},
   "outputs": [
    {
     "name": "stdout",
     "output_type": "stream",
     "text": [
      "locations/al/birmingham/101-resource-center-parkway\n"
     ]
    }
   ],
   "source": [
    "print(final_list[1][1:])"
   ]
  },
  {
   "cell_type": "code",
   "execution_count": 112,
   "metadata": {},
   "outputs": [],
   "source": [
    "for i in final_list:\n",
    "    link_dic[i[11:13]].append(loc_url+i[1:])"
   ]
  },
  {
   "cell_type": "code",
   "execution_count": null,
   "metadata": {},
   "outputs": [],
   "source": [
    "print(link_dic)"
   ]
  },
  {
   "cell_type": "code",
   "execution_count": 113,
   "metadata": {},
   "outputs": [
    {
     "name": "stdout",
     "output_type": "stream",
     "text": [
      "2240\n",
      "{'al': 27, 'ak': 5, 'az': 102, 'ar': 10, 'ca': 573, 'co': 51, 'ct': 2, 'de': 6, 'dc': 3, 'fl': 102, 'ga': 64, 'gu': 3, 'hi': 34, 'id': 24, 'il': 111, 'in': 40, 'ia': 17, 'ks': 19, 'ky': 15, 'la': 13, 'me': 1, 'md': 31, 'ma': 6, 'mi': 43, 'mn': 23, 'ms': 7, 'mo': 44, 'mt': 7, 'ne': 12, 'nv': 81, 'nh': 1, 'nj': 16, 'nm': 23, 'ny': 14, 'nc': 20, 'nd': 4, 'oh': 45, 'ok': 28, 'or': 47, 'pa': 17, 'pr': 18, 'ri': 1, 'sc': 11, 'sd': 3, 'tn': 44, 'tx': 288, 'ut': 45, 'va': 43, 'wa': 68, 'wv': 3, 'wi': 23, 'wy': 2}\n"
     ]
    }
   ],
   "source": [
    "key_to_value_lengths = {k:len(v) for k, v in link_dic.items()}\n",
    "print(sum([len(x) for x in link_dic.values()]))\n",
    "print(key_to_value_lengths)"
   ]
  },
  {
   "cell_type": "code",
   "execution_count": 114,
   "metadata": {},
   "outputs": [
    {
     "name": "stdout",
     "output_type": "stream",
     "text": [
      "['https://www.pandaexpress.com/locations/nm/bernalillo', 'https://www.pandaexpress.com/locations/nm/farmington', 'https://www.pandaexpress.com/locations/nm/gallup', 'https://www.pandaexpress.com/locations/nm/los-lunas', 'https://www.pandaexpress.com/locations/nm/rio-rancho', 'https://www.pandaexpress.com/locations/nm/roswell', 'https://www.pandaexpress.com/locations/nm/albuquerque/3703-ellison-drive-nw', 'https://www.pandaexpress.com/locations/nm/albuquerque/2200-sunport-blvd-se', 'https://www.pandaexpress.com/locations/nm/albuquerque/4100-central-avenue-sw', 'https://www.pandaexpress.com/locations/nm/albuquerque/3601-bosque-plaza-ln-nw', 'https://www.pandaexpress.com/locations/nm/albuquerque/2760-coors-blvd-nw', 'https://www.pandaexpress.com/locations/nm/albuquerque/3506-coors-blvd-sw', 'https://www.pandaexpress.com/locations/nm/albuquerque/6600-menaul-blvd-ne-40-1', 'https://www.pandaexpress.com/locations/nm/albuquerque/838-eubank-blvd', 'https://www.pandaexpress.com/locations/nm/albuquerque/11000-broadway-southeast', 'https://www.pandaexpress.com/locations/nm/albuquerque/9500-montgomery-blvd-ne', 'https://www.pandaexpress.com/locations/nm/albuquerque/1408-mercantile-ave', 'https://www.pandaexpress.com/locations/nm/albuquerque/8126-san-pedro-dr-ne', 'https://www.pandaexpress.com/locations/nm/albuquerque/2820-central-ave-se', 'https://www.pandaexpress.com/locations/nm/las-cruces/1400-university-ave', 'https://www.pandaexpress.com/locations/nm/las-cruces/3311-rinconada-blvd', 'https://www.pandaexpress.com/locations/nm/santa-fe/500-n-guadalupe', 'https://www.pandaexpress.com/locations/nm/santa-fe/3522-zafarano-dr-suite-f1']\n"
     ]
    }
   ],
   "source": [
    "print(link_dic[\"nm\"])"
   ]
  },
  {
   "cell_type": "code",
   "execution_count": 145,
   "metadata": {},
   "outputs": [],
   "source": [
    "with open('/Users/benperry/Documents/Python/FastFood/LinkDicts/pandaexpress.pkl', 'wb') as f:\n",
    "    pickle.dump(link_dic, f)"
   ]
  }
 ],
 "metadata": {
  "interpreter": {
   "hash": "3c45fb9862e51581e90d32eb5601e3b34a34137741e0832672dd7f3c4f079504"
  },
  "kernelspec": {
   "display_name": "Python 3.9.5 ('.venv': venv)",
   "language": "python",
   "name": "python3"
  },
  "language_info": {
   "codemirror_mode": {
    "name": "ipython",
    "version": 3
   },
   "file_extension": ".py",
   "mimetype": "text/x-python",
   "name": "python",
   "nbconvert_exporter": "python",
   "pygments_lexer": "ipython3",
   "version": "3.9.5"
  },
  "orig_nbformat": 4
 },
 "nbformat": 4,
 "nbformat_minor": 2
}
