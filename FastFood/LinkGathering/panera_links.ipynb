{
 "cells": [
  {
   "cell_type": "code",
   "execution_count": 29,
   "metadata": {},
   "outputs": [],
   "source": [
    "import requests\n",
    "from bs4 import BeautifulSoup\n",
    "from time import sleep\n",
    "from tqdm.notebook import tqdm, trange\n",
    "import pickle\n",
    "import json"
   ]
  },
  {
   "cell_type": "code",
   "execution_count": 2,
   "metadata": {},
   "outputs": [],
   "source": [
    "headers = {\n",
    "    \"Access-Control-Allow-Origin\": \"*\",\n",
    "    \"Access-Control-Allow-Methods\": \"GET\",\n",
    "    \"Access-Control-Allow-Headers\": \"Content-Type\",\n",
    "    \"Access-Control-Max-Age\": \"3600\",\n",
    "    \"User-Agent\": \"Mozilla/5.0 (X11; Ubuntu; Linux x86_64; rv:52.0) Gecko/20100101 Firefox/52.0\",\n",
    "}"
   ]
  },
  {
   "cell_type": "code",
   "execution_count": 3,
   "metadata": {},
   "outputs": [],
   "source": [
    "store_url = \"https://locations.panerabread.com/\"\n",
    "loc_url = \"https://locations.panerabread.com/\""
   ]
  },
  {
   "cell_type": "code",
   "execution_count": 4,
   "metadata": {},
   "outputs": [],
   "source": [
    "link_dic = {}"
   ]
  },
  {
   "cell_type": "code",
   "execution_count": 5,
   "metadata": {},
   "outputs": [],
   "source": [
    "page = requests.get(store_url, headers)\n",
    "soup = BeautifulSoup(page.content, \"html.parser\")\n",
    "loclist = soup.find(class_=\"c-directory-list-content\")"
   ]
  },
  {
   "cell_type": "code",
   "execution_count": 6,
   "metadata": {},
   "outputs": [],
   "source": [
    "state_html = []\n",
    "for li in loclist.find_all(\"li\"):\n",
    "    a = li.find(class_=\"c-directory-list-content-item-link\")\n",
    "    link_dic[a[\"href\"][:2]] = []\n",
    "    if len(a[\"href\"]) > 22:\n",
    "        link_dic[a[\"href\"][:2]].append(loc_url+a[\"href\"])\n",
    "    else:\n",
    "        state_html.append(loc_url+a[\"href\"])"
   ]
  },
  {
   "cell_type": "code",
   "execution_count": 7,
   "metadata": {},
   "outputs": [
    {
     "name": "stdout",
     "output_type": "stream",
     "text": [
      "['https://locations.panerabread.com/al.html', 'https://locations.panerabread.com/az.html', 'https://locations.panerabread.com/ar.html', 'https://locations.panerabread.com/ca.html', 'https://locations.panerabread.com/co.html', 'https://locations.panerabread.com/ct.html', 'https://locations.panerabread.com/de.html', 'https://locations.panerabread.com/fl.html', 'https://locations.panerabread.com/ga.html', 'https://locations.panerabread.com/id.html', 'https://locations.panerabread.com/il.html', 'https://locations.panerabread.com/in.html', 'https://locations.panerabread.com/ia.html', 'https://locations.panerabread.com/ks.html', 'https://locations.panerabread.com/ky.html', 'https://locations.panerabread.com/la.html', 'https://locations.panerabread.com/me.html', 'https://locations.panerabread.com/md.html', 'https://locations.panerabread.com/ma.html', 'https://locations.panerabread.com/mi.html', 'https://locations.panerabread.com/mn.html', 'https://locations.panerabread.com/ms.html', 'https://locations.panerabread.com/mo.html', 'https://locations.panerabread.com/mt.html', 'https://locations.panerabread.com/ne.html', 'https://locations.panerabread.com/nv.html', 'https://locations.panerabread.com/nh.html', 'https://locations.panerabread.com/nj.html', 'https://locations.panerabread.com/nm.html', 'https://locations.panerabread.com/ny.html', 'https://locations.panerabread.com/nc.html', 'https://locations.panerabread.com/nd.html', 'https://locations.panerabread.com/oh.html', 'https://locations.panerabread.com/ok.html', 'https://locations.panerabread.com/on.html', 'https://locations.panerabread.com/or.html', 'https://locations.panerabread.com/pa.html', 'https://locations.panerabread.com/ri.html', 'https://locations.panerabread.com/sc.html', 'https://locations.panerabread.com/sd.html', 'https://locations.panerabread.com/tn.html', 'https://locations.panerabread.com/tx.html', 'https://locations.panerabread.com/vt.html', 'https://locations.panerabread.com/va.html', 'https://locations.panerabread.com/wa.html', 'https://locations.panerabread.com/dc/washington.html', 'https://locations.panerabread.com/wv.html', 'https://locations.panerabread.com/wi.html']\n"
     ]
    }
   ],
   "source": [
    "print(state_html)"
   ]
  },
  {
   "cell_type": "code",
   "execution_count": 8,
   "metadata": {},
   "outputs": [
    {
     "name": "stdout",
     "output_type": "stream",
     "text": [
      "{'al': [], 'az': [], 'ar': [], 'ca': [], 'co': [], 'ct': [], 'de': [], 'fl': [], 'ga': [], 'id': [], 'il': [], 'in': [], 'ia': [], 'ks': [], 'ky': [], 'la': [], 'me': [], 'md': [], 'ma': [], 'mi': [], 'mn': [], 'ms': [], 'mo': [], 'mt': [], 'ne': [], 'nv': [], 'nh': [], 'nj': [], 'nm': [], 'ny': [], 'nc': [], 'nd': [], 'oh': [], 'ok': [], 'on': [], 'or': [], 'pa': [], 'ri': [], 'sc': [], 'sd': [], 'tn': [], 'tx': [], 'ut': ['https://locations.panerabread.com/ut/salt-lake-city/3920-w-terminal-drive.html'], 'vt': [], 'va': [], 'wa': [], 'dc': [], 'wv': [], 'wi': [], 'wy': ['https://locations.panerabread.com/wy/cheyenne/2440-dell-range-blvd.html']}\n"
     ]
    }
   ],
   "source": [
    "print(link_dic)\n"
   ]
  },
  {
   "cell_type": "code",
   "execution_count": 9,
   "metadata": {},
   "outputs": [
    {
     "name": "stdout",
     "output_type": "stream",
     "text": [
      "['https://locations.panerabread.com/al.html', 'https://locations.panerabread.com/az.html', 'https://locations.panerabread.com/ar.html', 'https://locations.panerabread.com/ca.html', 'https://locations.panerabread.com/co.html', 'https://locations.panerabread.com/ct.html', 'https://locations.panerabread.com/de.html', 'https://locations.panerabread.com/fl.html', 'https://locations.panerabread.com/ga.html', 'https://locations.panerabread.com/id.html', 'https://locations.panerabread.com/il.html', 'https://locations.panerabread.com/in.html', 'https://locations.panerabread.com/ia.html', 'https://locations.panerabread.com/ks.html', 'https://locations.panerabread.com/ky.html', 'https://locations.panerabread.com/la.html', 'https://locations.panerabread.com/me.html', 'https://locations.panerabread.com/md.html', 'https://locations.panerabread.com/ma.html', 'https://locations.panerabread.com/mi.html', 'https://locations.panerabread.com/mn.html', 'https://locations.panerabread.com/ms.html', 'https://locations.panerabread.com/mo.html', 'https://locations.panerabread.com/mt.html', 'https://locations.panerabread.com/ne.html', 'https://locations.panerabread.com/nv.html', 'https://locations.panerabread.com/nh.html', 'https://locations.panerabread.com/nj.html', 'https://locations.panerabread.com/nm.html', 'https://locations.panerabread.com/ny.html', 'https://locations.panerabread.com/nc.html', 'https://locations.panerabread.com/nd.html', 'https://locations.panerabread.com/oh.html', 'https://locations.panerabread.com/ok.html', 'https://locations.panerabread.com/on.html', 'https://locations.panerabread.com/or.html', 'https://locations.panerabread.com/pa.html', 'https://locations.panerabread.com/ri.html', 'https://locations.panerabread.com/sc.html', 'https://locations.panerabread.com/sd.html', 'https://locations.panerabread.com/tn.html', 'https://locations.panerabread.com/tx.html', 'https://locations.panerabread.com/vt.html', 'https://locations.panerabread.com/va.html', 'https://locations.panerabread.com/wa.html', 'https://locations.panerabread.com/dc/washington.html', 'https://locations.panerabread.com/wv.html', 'https://locations.panerabread.com/wi.html']\n",
      "['https://locations.panerabread.com/al.html', 'https://locations.panerabread.com/az.html', 'https://locations.panerabread.com/ar.html', 'https://locations.panerabread.com/ca.html', 'https://locations.panerabread.com/co.html', 'https://locations.panerabread.com/ct.html', 'https://locations.panerabread.com/de.html', 'https://locations.panerabread.com/fl.html', 'https://locations.panerabread.com/ga.html', 'https://locations.panerabread.com/id.html', 'https://locations.panerabread.com/il.html', 'https://locations.panerabread.com/in.html', 'https://locations.panerabread.com/ia.html', 'https://locations.panerabread.com/ks.html', 'https://locations.panerabread.com/ky.html', 'https://locations.panerabread.com/la.html', 'https://locations.panerabread.com/me.html', 'https://locations.panerabread.com/md.html', 'https://locations.panerabread.com/ma.html', 'https://locations.panerabread.com/mi.html', 'https://locations.panerabread.com/mn.html', 'https://locations.panerabread.com/ms.html', 'https://locations.panerabread.com/mo.html', 'https://locations.panerabread.com/mt.html', 'https://locations.panerabread.com/ne.html', 'https://locations.panerabread.com/nv.html', 'https://locations.panerabread.com/nh.html', 'https://locations.panerabread.com/nj.html', 'https://locations.panerabread.com/nm.html', 'https://locations.panerabread.com/ny.html', 'https://locations.panerabread.com/nc.html', 'https://locations.panerabread.com/nd.html', 'https://locations.panerabread.com/oh.html', 'https://locations.panerabread.com/ok.html', 'https://locations.panerabread.com/on.html', 'https://locations.panerabread.com/or.html', 'https://locations.panerabread.com/pa.html', 'https://locations.panerabread.com/ri.html', 'https://locations.panerabread.com/sc.html', 'https://locations.panerabread.com/sd.html', 'https://locations.panerabread.com/tn.html', 'https://locations.panerabread.com/tx.html', 'https://locations.panerabread.com/vt.html', 'https://locations.panerabread.com/va.html', 'https://locations.panerabread.com/wa.html', 'https://locations.panerabread.com/wv.html', 'https://locations.panerabread.com/wi.html']\n"
     ]
    }
   ],
   "source": [
    "print(state_html)\n",
    "state_html.remove('https://locations.panerabread.com/dc/washington.html')\n",
    "print(state_html)"
   ]
  },
  {
   "cell_type": "code",
   "execution_count": 10,
   "metadata": {},
   "outputs": [
    {
     "name": "stdout",
     "output_type": "stream",
     "text": [
      "{'al': [], 'az': [], 'ar': [], 'ca': [], 'co': [], 'ct': [], 'de': [], 'fl': [], 'ga': [], 'id': [], 'il': [], 'in': [], 'ia': [], 'ks': [], 'ky': [], 'la': [], 'me': [], 'md': [], 'ma': [], 'mi': [], 'mn': [], 'ms': [], 'mo': [], 'mt': [], 'ne': [], 'nv': [], 'nh': [], 'nj': [], 'nm': [], 'ny': [], 'nc': [], 'nd': [], 'oh': [], 'ok': [], 'on': [], 'or': [], 'pa': [], 'ri': [], 'sc': [], 'sd': [], 'tn': [], 'tx': [], 'ut': ['https://locations.panerabread.com/ut/salt-lake-city/3920-w-terminal-drive.html'], 'vt': [], 'va': [], 'wa': [], 'dc': [], 'wv': [], 'wi': [], 'wy': ['https://locations.panerabread.com/wy/cheyenne/2440-dell-range-blvd.html']}\n"
     ]
    }
   ],
   "source": [
    "print(link_dic)"
   ]
  },
  {
   "cell_type": "code",
   "execution_count": 11,
   "metadata": {},
   "outputs": [
    {
     "data": {
      "application/vnd.jupyter.widget-view+json": {
       "model_id": "39541a5878f04abf8f04c51e8336103e",
       "version_major": 2,
       "version_minor": 0
      },
      "text/plain": [
       "  0%|          | 0/47 [00:00<?, ?it/s]"
      ]
     },
     "metadata": {},
     "output_type": "display_data"
    }
   ],
   "source": [
    "store_href = []\n",
    "loop = tqdm(state_html)\n",
    "\n",
    "for state in loop:\n",
    "    loop.set_description(f\"working on {state}\")\n",
    "\n",
    "    st_page = requests.get(state, headers)\n",
    "    st_soup = BeautifulSoup(st_page.content, \"html.parser\")\n",
    "    st_list = st_soup.find(class_=\"c-directory-list-content\")\n",
    "\n",
    "    for links in st_list.find_all(\"li\"):\n",
    "        g = links.find(class_=\"c-directory-list-content-item-link\")\n",
    "        store_href.append(g[\"href\"])\n",
    "    sleep(0.5)"
   ]
  },
  {
   "cell_type": "code",
   "execution_count": 12,
   "metadata": {},
   "outputs": [
    {
     "name": "stdout",
     "output_type": "stream",
     "text": [
      "al/athens/1323-us-highway-72-e.html\n"
     ]
    }
   ],
   "source": [
    "print(store_href[1])"
   ]
  },
  {
   "cell_type": "code",
   "execution_count": 13,
   "metadata": {},
   "outputs": [
    {
     "name": "stdout",
     "output_type": "stream",
     "text": [
      "['dc/washington.html', 'al/auburn.html', 'al/birmingham.html', 'al/huntsville.html', 'al/mobile.html', 'az/chandler.html', 'az/mesa.html', 'az/peoria.html', 'az/phoenix.html', 'az/scottsdale.html', 'az/tempe.html', 'az/tucson.html', 'ar/little-rock.html', 'ca/anaheim.html', 'ca/bakersfield.html', 'ca/carlsbad.html', 'ca/chula-vista.html', 'ca/concord.html', 'ca/dublin.html', 'ca/fremont.html', 'ca/fresno.html', 'ca/fullerton.html', 'ca/irvine.html', 'ca/modesto.html', 'ca/moreno-valley.html', 'ca/oakland.html', 'ca/palm-desert.html', 'ca/rancho-cucamonga.html', 'ca/rialto.html', 'ca/riverside.html', 'ca/roseville.html', 'ca/sacramento.html', 'ca/san-clemente.html', 'ca/san-diego.html', 'ca/san-jose.html', 'ca/santa-clarita.html', 'co/arvada.html', 'co/aurora.html', 'co/colorado-springs.html', 'co/denver.html', 'co/fort-collins.html', 'co/lakewood.html', 'co/littleton.html', 'co/westminster.html', 'de/wilmington.html', 'fl/altamonte-springs.html', 'fl/boca-raton.html', 'fl/boynton-beach.html', 'fl/bradenton.html', 'fl/cape-coral.html', 'fl/clearwater.html', 'fl/coral-springs.html', 'fl/deerfield-beach.html', 'fl/fort-lauderdale.html', 'fl/fort-myers.html', 'fl/gainesville.html', 'fl/jacksonville.html', 'fl/kissimmee.html', 'fl/lakeland.html', 'fl/largo.html', 'fl/melbourne.html', 'fl/miami.html', 'fl/naples.html', 'fl/ocala.html', 'fl/orlando.html', 'fl/palm-beach-gardens.html', 'fl/pensacola.html', 'fl/ponte-vedra.html', 'fl/port-st-lucie.html', 'fl/sarasota.html', 'fl/stuart.html', 'fl/tallahassee.html', 'fl/tampa.html', 'fl/vero-beach.html', 'fl/winter-park.html', 'ga/atlanta.html', 'ga/columbus.html', 'ga/duluth.html', 'ga/kennesaw.html', 'ga/lawrenceville.html', 'ga/marietta.html', 'ga/peachtree-city.html', 'id/boise.html', 'il/aurora.html', 'il/bolingbrook.html', 'il/champaign.html', 'il/chicago.html', 'il/downers-grove.html', 'il/homewood.html', 'il/joliet.html', 'il/naperville.html', 'il/oak-lawn.html', 'il/orland-park.html', 'il/park-ridge.html', 'il/peoria.html', 'il/plainfield.html', 'il/schaumburg.html', 'il/skokie.html', 'il/springfield.html', 'in/carmel.html', 'in/evansville.html', 'in/fort-wayne.html', 'in/indianapolis.html', 'in/noblesville.html', 'in/west-lafayette.html', 'ia/ankeny.html', 'ia/cedar-rapids.html', 'ia/coralville.html', 'ia/davenport.html', 'ia/des-moines.html', 'ia/west-des-moines.html', 'ks/manhattan.html', 'ks/olathe.html', 'ks/overland-park.html', 'ks/wichita.html', 'ky/lexington.html', 'ky/louisville.html', 'la/baton-rouge.html', 'md/baltimore.html', 'md/bowie.html', 'md/columbia.html', 'md/frederick.html', 'md/gaithersburg.html', 'md/germantown.html', 'md/laurel.html', 'md/rockville.html', 'md/silver-spring.html', 'ma/boston.html', 'ma/plymouth.html', 'ma/waltham.html', 'mi/ann-arbor.html', 'mi/brighton.html', 'mi/canton.html', 'mi/grand-rapids.html', 'mi/kalamazoo.html', 'mi/lansing.html', 'mi/livonia.html', 'mi/rochester-hills.html', 'mi/shelby-township.html', 'mi/troy.html', 'mi/walker.html', 'mi/west-bloomfield.html', 'mn/blaine.html', 'mn/minneapolis.html', 'mn/rochester.html', 'mo/chesterfield.html', 'mo/columbia.html', 'mo/creve-coeur.html', 'mo/kansas-city.html', 'mo/lee-s-summit.html', 'mo/richmond-heights.html', 'mo/springfield.html', 'mo/st--louis.html', 'mo/st--peters.html', 'ne/lincoln.html', 'ne/omaha.html', 'nv/henderson.html', 'nv/las-vegas.html', 'nh/nashua.html', 'nj/edison.html', 'nj/hamilton-township.html', 'nj/montclair.html', 'nj/paramus.html', 'nj/piscataway.html', 'nj/wayne.html', 'nm/albuquerque.html', 'ny/albany.html', 'ny/amherst.html', 'ny/brooklyn.html', 'ny/buffalo.html', 'ny/cheektowaga.html', 'ny/new-york.html', 'ny/poughkeepsie.html', 'ny/rochester.html', 'ny/staten-island.html', 'ny/syracuse.html', 'ny/troy.html', 'nc/asheville.html', 'nc/cary.html', 'nc/charlotte.html', 'nc/concord.html', 'nc/durham.html', 'nc/fayetteville.html', 'nc/garner.html', 'nc/greensboro.html', 'nc/hickory.html', 'nc/high-point.html', 'nc/raleigh.html', 'nc/wilmington.html', 'nc/winston-salem.html', 'oh/akron.html', 'oh/amherst.html', 'oh/avon.html', 'oh/beavercreek.html', 'oh/boardman.html', 'oh/cincinnati.html', 'oh/cleveland.html', 'oh/columbus.html', 'oh/dayton.html', 'oh/delaware.html', 'oh/dublin.html', 'oh/hilliard.html', 'oh/lima.html', 'oh/mansfield.html', 'oh/mason.html', 'oh/mentor.html', 'oh/new-springfield.html', 'oh/stow.html', 'oh/strongsville.html', 'oh/toledo.html', 'oh/west-chester.html', 'oh/westerville.html', 'ok/oklahoma-city.html', 'ok/tulsa.html', 'on/mississauga.html', 'or/portland.html', 'pa/allentown.html', 'pa/easton.html', 'pa/erie.html', 'pa/greensburg.html', 'pa/harrisburg.html', 'pa/lancaster.html', 'pa/philadelphia.html', 'pa/pittsburgh.html', 'pa/reading.html', 'pa/state-college.html', 'pa/york.html', 'sc/charleston.html', 'sc/columbia.html', 'sc/greenville.html', 'sc/myrtle-beach.html', 'sc/spartanburg.html', 'sc/summerville.html', 'sd/sioux-falls.html', 'tn/chattanooga.html', 'tn/franklin.html', 'tn/knoxville.html', 'tn/memphis.html', 'tn/murfreesboro.html', 'tn/nashville.html', 'tx/arlington.html', 'tx/austin.html', 'tx/conroe.html', 'tx/dallas.html', 'tx/denton.html', 'tx/fort-worth.html', 'tx/houston.html', 'tx/katy.html', 'tx/lubbock.html', 'tx/mckinney.html', 'tx/pearland.html', 'tx/plano.html', 'tx/prosper.html', 'tx/san-antonio.html', 'tx/spring.html', 'tx/waco.html', 'va/alexandria.html', 'va/arlington.html', 'va/charlottesville.html', 'va/chesapeake.html', 'va/fairfax.html', 'va/falls-church.html', 'va/fredericksburg.html', 'va/glen-allen.html', 'va/harrisonburg.html', 'va/herndon.html', 'va/leesburg.html', 'va/manassas.html', 'va/midlothian.html', 'va/newport-news.html', 'va/norfolk.html', 'va/richmond.html', 'va/roanoke.html', 'va/suffolk.html', 'va/vienna.html', 'va/virginia-beach.html', 'va/williamsburg.html', 'va/woodbridge.html', 'wa/bellevue.html', 'wa/vancouver.html', 'wi/appleton.html', 'wi/brookfield.html', 'wi/green-bay.html', 'wi/madison.html', 'wi/milwaukee.html']\n"
     ]
    }
   ],
   "source": [
    "city_list = []\n",
    "city_list.append('dc/washington.html')\n",
    "for i in store_href:\n",
    "    count = i.count('/')\n",
    "    if count == 1:\n",
    "        city_list.append(i)\n",
    "    elif count == 2:\n",
    "        link_dic[i[:2]].append(loc_url+i)\n",
    "print(city_list)"
   ]
  },
  {
   "cell_type": "code",
   "execution_count": null,
   "metadata": {},
   "outputs": [],
   "source": [
    "print(link_dic)"
   ]
  },
  {
   "cell_type": "code",
   "execution_count": null,
   "metadata": {},
   "outputs": [],
   "source": [
    "for city,n in zip(city_list,range(len(city_list))):\n",
    "    city_list[n] = loc_url+city\n",
    "print(city_list)"
   ]
  },
  {
   "cell_type": "code",
   "execution_count": 16,
   "metadata": {},
   "outputs": [
    {
     "data": {
      "application/vnd.jupyter.widget-view+json": {
       "model_id": "becc0c4287904dc0abb3599a9a7c910b",
       "version_major": 2,
       "version_minor": 0
      },
      "text/plain": [
       "  0%|          | 0/285 [00:00<?, ?it/s]"
      ]
     },
     "metadata": {},
     "output_type": "display_data"
    }
   ],
   "source": [
    "final_list = []\n",
    "loop1 = tqdm(city_list)\n",
    "\n",
    "for city_store in loop1:\n",
    "    loop1.set_description(f\"working on {city_store}\")\n",
    "\n",
    "    city_page = requests.get(city_store, headers)\n",
    "    city_soup = BeautifulSoup(city_page.content, \"html.parser\")\n",
    "    cities = city_soup.find_all(class_=\"c-location-grid-item\")\n",
    "\n",
    "    for links in cities:\n",
    "        t = links.find(class_=\"c-location-grid-item-title\")\n",
    "        final_list.append(t.a['href'])\n",
    "    sleep(0.5)"
   ]
  },
  {
   "cell_type": "code",
   "execution_count": 23,
   "metadata": {},
   "outputs": [
    {
     "name": "stdout",
     "output_type": "stream",
     "text": [
      "dc/washington/1300-pennsylvania-ave-nw.html\n"
     ]
    }
   ],
   "source": [
    "print(final_list[1][3:])"
   ]
  },
  {
   "cell_type": "code",
   "execution_count": 24,
   "metadata": {},
   "outputs": [],
   "source": [
    "for i in final_list:\n",
    "    link_dic[i[3:5]].append(loc_url+i[3:])"
   ]
  },
  {
   "cell_type": "code",
   "execution_count": null,
   "metadata": {},
   "outputs": [],
   "source": [
    "print(link_dic)"
   ]
  },
  {
   "cell_type": "code",
   "execution_count": 26,
   "metadata": {},
   "outputs": [
    {
     "name": "stdout",
     "output_type": "stream",
     "text": [
      "2161\n",
      "{'al': 28, 'az': 36, 'ar': 7, 'ca': 190, 'co': 38, 'ct': 33, 'de': 6, 'fl': 190, 'ga': 65, 'id': 7, 'il': 119, 'in': 41, 'ia': 22, 'ks': 24, 'ky': 32, 'la': 12, 'me': 6, 'md': 56, 'ma': 61, 'mi': 79, 'mn': 33, 'ms': 5, 'mo': 68, 'mt': 3, 'ne': 12, 'nv': 12, 'nh': 13, 'nj': 79, 'nm': 7, 'ny': 115, 'nc': 85, 'nd': 4, 'oh': 138, 'ok': 17, 'on': 13, 'or': 15, 'pa': 111, 'ri': 8, 'sc': 35, 'sd': 3, 'tn': 41, 'tx': 113, 'ut': 1, 'vt': 4, 'va': 86, 'wa': 31, 'dc': 7, 'wv': 10, 'wi': 39, 'wy': 1}\n"
     ]
    }
   ],
   "source": [
    "key_to_value_lengths = {k:len(v) for k, v in link_dic.items()}\n",
    "print(sum([len(x) for x in link_dic.values()]))\n",
    "print(key_to_value_lengths)"
   ]
  },
  {
   "cell_type": "code",
   "execution_count": 27,
   "metadata": {},
   "outputs": [
    {
     "name": "stdout",
     "output_type": "stream",
     "text": [
      "['https://locations.panerabread.com/ar/bentonville/1320-se-walton-blvd.html', 'https://locations.panerabread.com/ar/fayetteville/3638-north-front-street.html', 'https://locations.panerabread.com/ar/fort-smith/2917-south-74th-street.html', 'https://locations.panerabread.com/ar/jonesboro/2213-stadium-blvd.html', 'https://locations.panerabread.com/ar/north-little-rock/2812-lakewood-village-drive.html', 'https://locations.panerabread.com/ar/little-rock/10701-kanis-road.html', 'https://locations.panerabread.com/ar/little-rock/314-south-university.html']\n"
     ]
    }
   ],
   "source": [
    "print(link_dic[\"ar\"])"
   ]
  },
  {
   "cell_type": "code",
   "execution_count": 30,
   "metadata": {},
   "outputs": [],
   "source": [
    "with open('/Users/benperry/Documents/Python/FastFood/LinkJson/panera.json', 'w') as f:\n",
    "    json.dump(link_dic, f)"
   ]
  }
 ],
 "metadata": {
  "interpreter": {
   "hash": "3c45fb9862e51581e90d32eb5601e3b34a34137741e0832672dd7f3c4f079504"
  },
  "kernelspec": {
   "display_name": "Python 3.9.5 ('.venv': venv)",
   "language": "python",
   "name": "python3"
  },
  "language_info": {
   "codemirror_mode": {
    "name": "ipython",
    "version": 3
   },
   "file_extension": ".py",
   "mimetype": "text/x-python",
   "name": "python",
   "nbconvert_exporter": "python",
   "pygments_lexer": "ipython3",
   "version": "3.9.5"
  },
  "orig_nbformat": 4
 },
 "nbformat": 4,
 "nbformat_minor": 2
}
