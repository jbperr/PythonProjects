{
 "cells": [
  {
   "cell_type": "code",
   "execution_count": 1,
   "metadata": {},
   "outputs": [],
   "source": [
    "import requests\n",
    "from bs4 import BeautifulSoup\n",
    "from time import sleep\n",
    "from tqdm.notebook import tqdm, trange\n",
    "import pickle"
   ]
  },
  {
   "cell_type": "code",
   "execution_count": null,
   "metadata": {},
   "outputs": [],
   "source": [
    "### WORKS\n",
    "# chipotle, kfc, pizza hut, whataburger, churches, carls jr, \n",
    "### SLIGHT CHANGES TO HTML TAG NAMES OR VARIABLES\n",
    "#  qdoba, jack in the box, papa johns, panera"
   ]
  },
  {
   "cell_type": "code",
   "execution_count": 2,
   "metadata": {},
   "outputs": [],
   "source": [
    "headers = {\n",
    "    \"Access-Control-Allow-Origin\": \"*\",\n",
    "    \"Access-Control-Allow-Methods\": \"GET\",\n",
    "    \"Access-Control-Allow-Headers\": \"Content-Type\",\n",
    "    \"Access-Control-Max-Age\": \"3600\",\n",
    "    \"User-Agent\": \"Mozilla/5.0 (X11; Ubuntu; Linux x86_64; rv:52.0) Gecko/20100101 Firefox/52.0\",\n",
    "}"
   ]
  },
  {
   "cell_type": "code",
   "execution_count": 3,
   "metadata": {},
   "outputs": [],
   "source": [
    "store_url = \"https://locations.jimmyjohns.com/\"\n",
    "loc_url = \"https://locations.jimmyjohns.com/\""
   ]
  },
  {
   "cell_type": "code",
   "execution_count": 4,
   "metadata": {},
   "outputs": [],
   "source": [
    "link_dic = {}"
   ]
  },
  {
   "cell_type": "code",
   "execution_count": 5,
   "metadata": {},
   "outputs": [],
   "source": [
    "page = requests.get(store_url, headers)\n",
    "soup = BeautifulSoup(page.content, \"html.parser\")\n",
    "loclist = soup.find(class_=\"browse mb-30 mb-xs-0\")"
   ]
  },
  {
   "cell_type": "code",
   "execution_count": 43,
   "metadata": {},
   "outputs": [],
   "source": [
    "state_html = []\n",
    "for li in loclist.find_all(class_=\"map-list-item is-single\"):\n",
    "    link_dic[li.a[\"href\"][-3:-1]] = []\n",
    "    state_html.append(li.a[\"href\"])"
   ]
  },
  {
   "cell_type": "code",
   "execution_count": 44,
   "metadata": {},
   "outputs": [
    {
     "name": "stdout",
     "output_type": "stream",
     "text": [
      "{'al': [], 'az': [], 'ar': [], 'ca': [], 'co': [], 'de': [], 'dc': [], 'fl': [], 'ga': [], 'id': [], 'il': [], 'in': [], 'ia': [], 'ks': [], 'ky': [], 'la': [], 'md': [], 'ma': [], 'mi': [], 'mn': [], 'ms': [], 'mo': [], 'mt': [], 'ne': [], 'nv': [], 'nj': [], 'nm': [], 'ny': [], 'nc': [], 'nd': [], 'oh': [], 'ok': [], 'or': [], 'pa': [], 'sc': [], 'sd': [], 'tn': [], 'tx': [], 'ut': [], 'va': [], 'wa': [], 'wv': [], 'wi': [], 'wy': []}\n"
     ]
    }
   ],
   "source": [
    "print(link_dic)\n"
   ]
  },
  {
   "cell_type": "code",
   "execution_count": null,
   "metadata": {},
   "outputs": [],
   "source": [
    "print(len(state_html))\n",
    "for i in state_html:\n",
    "    print(i)"
   ]
  },
  {
   "cell_type": "code",
   "execution_count": 47,
   "metadata": {},
   "outputs": [
    {
     "data": {
      "application/vnd.jupyter.widget-view+json": {
       "model_id": "dc3c354c064644a9b58f2a295789d710",
       "version_major": 2,
       "version_minor": 0
      },
      "text/plain": [
       "  0%|          | 0/44 [00:00<?, ?it/s]"
      ]
     },
     "metadata": {},
     "output_type": "display_data"
    }
   ],
   "source": [
    "store_href = []\n",
    "loop = tqdm(state_html)\n",
    "\n",
    "for state in loop:\n",
    "    loop.set_description(f\"working on {state}\")\n",
    "\n",
    "    st_page = requests.get(state, headers)\n",
    "    st_soup = BeautifulSoup(st_page.content, \"html.parser\")\n",
    "    st_list = st_soup.find(class_=\"map-list\")\n",
    "\n",
    "    for links in st_list.find_all(class_=\"map-list-item is-single\"):\n",
    "        store_href.append(links.a[\"href\"])\n",
    "    sleep(0.5)"
   ]
  },
  {
   "cell_type": "code",
   "execution_count": null,
   "metadata": {},
   "outputs": [],
   "source": [
    "print(store_href)"
   ]
  },
  {
   "cell_type": "code",
   "execution_count": null,
   "metadata": {},
   "outputs": [],
   "source": [
    "city_list = store_href\n",
    "print(city_list)\n"
   ]
  },
  {
   "cell_type": "code",
   "execution_count": 52,
   "metadata": {},
   "outputs": [
    {
     "data": {
      "application/vnd.jupyter.widget-view+json": {
       "model_id": "75d57893a1fb4ef694084517ccc73a1c",
       "version_major": 2,
       "version_minor": 0
      },
      "text/plain": [
       "  0%|          | 0/1570 [00:00<?, ?it/s]"
      ]
     },
     "metadata": {},
     "output_type": "display_data"
    }
   ],
   "source": [
    "final_list = []\n",
    "loop1 = tqdm(city_list)\n",
    "\n",
    "for city_store in loop1:\n",
    "    loop1.set_description(f\"working on {city_store}\")\n",
    "\n",
    "    city_page = requests.get(city_store, headers)\n",
    "    city_soup = BeautifulSoup(city_page.content, \"html.parser\")\n",
    "    cities = city_soup.find_all(class_=\"map-list-item-header\")\n",
    "\n",
    "    for links in cities:\n",
    "        final_list.append(links.a['href'])\n",
    "    sleep(0.5)"
   ]
  },
  {
   "cell_type": "code",
   "execution_count": 60,
   "metadata": {},
   "outputs": [
    {
     "name": "stdout",
     "output_type": "stream",
     "text": [
      "al\n"
     ]
    }
   ],
   "source": [
    "print(final_list[1][33:35])"
   ]
  },
  {
   "cell_type": "code",
   "execution_count": 61,
   "metadata": {},
   "outputs": [],
   "source": [
    "for i in final_list:\n",
    "    link_dic[i[33:35]].append(i)"
   ]
  },
  {
   "cell_type": "code",
   "execution_count": null,
   "metadata": {},
   "outputs": [],
   "source": [
    "print(link_dic)"
   ]
  },
  {
   "cell_type": "code",
   "execution_count": 63,
   "metadata": {},
   "outputs": [
    {
     "name": "stdout",
     "output_type": "stream",
     "text": [
      "2748\n",
      "{'al': 34, 'az': 80, 'ar': 17, 'ca': 78, 'co': 105, 'de': 2, 'dc': 3, 'fl': 156, 'ga': 84, 'id': 27, 'il': 289, 'in': 119, 'ia': 84, 'ks': 39, 'ky': 51, 'la': 30, 'md': 29, 'ma': 6, 'mi': 206, 'mn': 115, 'ms': 11, 'mo': 100, 'mt': 15, 'ne': 47, 'nv': 25, 'nj': 2, 'nm': 12, 'ny': 9, 'nc': 88, 'nd': 15, 'oh': 143, 'ok': 29, 'or': 38, 'pa': 33, 'sc': 36, 'sd': 17, 'tn': 44, 'tx': 203, 'ut': 47, 'va': 62, 'wa': 91, 'wv': 7, 'wi': 112, 'wy': 8}\n"
     ]
    }
   ],
   "source": [
    "key_to_value_lengths = {k:len(v) for k, v in link_dic.items()}\n",
    "print(sum([len(x) for x in link_dic.values()]))\n",
    "print(key_to_value_lengths)"
   ]
  },
  {
   "cell_type": "code",
   "execution_count": 64,
   "metadata": {},
   "outputs": [
    {
     "name": "stdout",
     "output_type": "stream",
     "text": [
      "['https://locations.jimmyjohns.com/nm/albuquerque/sandwiches-1934.html', 'https://locations.jimmyjohns.com/nm/albuquerque/sandwiches-2078.html', 'https://locations.jimmyjohns.com/nm/albuquerque/sandwiches-2077.html', 'https://locations.jimmyjohns.com/nm/albuquerque/sandwiches-2076.html', 'https://locations.jimmyjohns.com/nm/albuquerque/sandwiches-2065.html', 'https://locations.jimmyjohns.com/nm/albuquerque/sandwiches-1711.html', 'https://locations.jimmyjohns.com/nm/farmington/sandwiches-2401.html', 'https://locations.jimmyjohns.com/nm/lascruces/sandwiches-1912.html', 'https://locations.jimmyjohns.com/nm/lascruces/sandwiches-2757.html', 'https://locations.jimmyjohns.com/nm/roswell/sandwiches-2699.html', 'https://locations.jimmyjohns.com/nm/santafe/sandwiches-3684.html', 'https://locations.jimmyjohns.com/nm/santafe/sandwiches-2526.html']\n"
     ]
    }
   ],
   "source": [
    "print(link_dic[\"nm\"])"
   ]
  },
  {
   "cell_type": "code",
   "execution_count": 145,
   "metadata": {},
   "outputs": [],
   "source": [
    "with open('/Users/benperry/Documents/Python/FastFood/LinkDicts/jimmyjohns.pkl', 'wb') as f:\n",
    "    pickle.dump(link_dic, f)"
   ]
  }
 ],
 "metadata": {
  "interpreter": {
   "hash": "3c45fb9862e51581e90d32eb5601e3b34a34137741e0832672dd7f3c4f079504"
  },
  "kernelspec": {
   "display_name": "Python 3.9.5 ('.venv': venv)",
   "language": "python",
   "name": "python3"
  },
  "language_info": {
   "codemirror_mode": {
    "name": "ipython",
    "version": 3
   },
   "file_extension": ".py",
   "mimetype": "text/x-python",
   "name": "python",
   "nbconvert_exporter": "python",
   "pygments_lexer": "ipython3",
   "version": "3.9.5"
  },
  "orig_nbformat": 4
 },
 "nbformat": 4,
 "nbformat_minor": 2
}
