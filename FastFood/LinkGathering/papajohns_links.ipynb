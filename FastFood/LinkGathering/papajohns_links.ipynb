{
 "cells": [
  {
   "cell_type": "code",
   "execution_count": 42,
   "metadata": {},
   "outputs": [],
   "source": [
    "import requests\n",
    "from bs4 import BeautifulSoup\n",
    "from time import sleep\n",
    "from tqdm.notebook import tqdm, trange\n",
    "import pickle\n",
    "import json"
   ]
  },
  {
   "cell_type": "code",
   "execution_count": null,
   "metadata": {},
   "outputs": [],
   "source": [
    "### WORKS\n",
    "# chipotle, kfc, pizza hut, whataburger, churches, carls jr, \n",
    "### SLIGHT CHANGES TO HTML TAG NAMES OR VARIABLES\n",
    "#  qdoba, jack in the box, papa johns"
   ]
  },
  {
   "cell_type": "code",
   "execution_count": 2,
   "metadata": {},
   "outputs": [],
   "source": [
    "headers = {\n",
    "    \"Access-Control-Allow-Origin\": \"*\",\n",
    "    \"Access-Control-Allow-Methods\": \"GET\",\n",
    "    \"Access-Control-Allow-Headers\": \"Content-Type\",\n",
    "    \"Access-Control-Max-Age\": \"3600\",\n",
    "    \"User-Agent\": \"Mozilla/5.0 (X11; Ubuntu; Linux x86_64; rv:52.0) Gecko/20100101 Firefox/52.0\",\n",
    "}"
   ]
  },
  {
   "cell_type": "code",
   "execution_count": 3,
   "metadata": {},
   "outputs": [],
   "source": [
    "store_url = \"https://locations.papajohns.com/united-states/\"\n",
    "loc_url = \"https://locations.papajohns.com/\""
   ]
  },
  {
   "cell_type": "code",
   "execution_count": 27,
   "metadata": {},
   "outputs": [],
   "source": [
    "link_dic = {}"
   ]
  },
  {
   "cell_type": "code",
   "execution_count": 5,
   "metadata": {},
   "outputs": [],
   "source": [
    "page = requests.get(store_url, headers)\n",
    "soup = BeautifulSoup(page.content, \"html.parser\")\n",
    "loclist = soup.find(class_=\"Directory-listLinks\")"
   ]
  },
  {
   "cell_type": "code",
   "execution_count": 28,
   "metadata": {},
   "outputs": [],
   "source": [
    "state_html = []\n",
    "for li in loclist.find_all(\"li\"):\n",
    "    a = li.find(class_=\"Directory-listLink\")\n",
    "    link_dic[a[\"href\"][14:16]] = []\n",
    "    if len(a[\"href\"]) > 30:\n",
    "        link_dic[a[\"href\"][14:16]].append(loc_url+a[\"href\"])\n",
    "    else:\n",
    "        state_html.append(loc_url+a[\"href\"])"
   ]
  },
  {
   "cell_type": "code",
   "execution_count": 29,
   "metadata": {},
   "outputs": [
    {
     "name": "stdout",
     "output_type": "stream",
     "text": [
      "{'ak': [], 'al': [], 'ar': [], 'az': [], 'ca': [], 'co': [], 'ct': [], 'dc': [], 'de': [], 'fl': [], 'ga': [], 'hi': [], 'ia': [], 'id': [], 'il': [], 'in': [], 'ks': [], 'ky': [], 'la': [], 'ma': [], 'md': [], 'me': [], 'mi': [], 'mn': [], 'mo': [], 'ms': [], 'mt': [], 'nc': [], 'nd': [], 'ne': [], 'nh': [], 'nj': [], 'nm': [], 'nv': [], 'ny': [], 'oh': [], 'ok': [], 'or': [], 'pa': [], 'ri': [], 'sc': [], 'sd': [], 'tn': [], 'tx': [], 'ut': [], 'va': [], 'wa': [], 'wi': [], 'wv': [], 'wy': []}\n"
     ]
    }
   ],
   "source": [
    "print(link_dic)\n"
   ]
  },
  {
   "cell_type": "code",
   "execution_count": 30,
   "metadata": {},
   "outputs": [
    {
     "name": "stdout",
     "output_type": "stream",
     "text": [
      "['https://locations.papajohns.com/united-states/ak', 'https://locations.papajohns.com/united-states/al', 'https://locations.papajohns.com/united-states/ar', 'https://locations.papajohns.com/united-states/az', 'https://locations.papajohns.com/united-states/ca', 'https://locations.papajohns.com/united-states/co', 'https://locations.papajohns.com/united-states/ct', 'https://locations.papajohns.com/united-states/dc/washington', 'https://locations.papajohns.com/united-states/de', 'https://locations.papajohns.com/united-states/fl', 'https://locations.papajohns.com/united-states/ga', 'https://locations.papajohns.com/united-states/hi', 'https://locations.papajohns.com/united-states/ia', 'https://locations.papajohns.com/united-states/id', 'https://locations.papajohns.com/united-states/il', 'https://locations.papajohns.com/united-states/in', 'https://locations.papajohns.com/united-states/ks', 'https://locations.papajohns.com/united-states/ky', 'https://locations.papajohns.com/united-states/la', 'https://locations.papajohns.com/united-states/ma', 'https://locations.papajohns.com/united-states/md', 'https://locations.papajohns.com/united-states/me', 'https://locations.papajohns.com/united-states/mi', 'https://locations.papajohns.com/united-states/mn', 'https://locations.papajohns.com/united-states/mo', 'https://locations.papajohns.com/united-states/ms', 'https://locations.papajohns.com/united-states/mt', 'https://locations.papajohns.com/united-states/nc', 'https://locations.papajohns.com/united-states/nd', 'https://locations.papajohns.com/united-states/ne', 'https://locations.papajohns.com/united-states/nh', 'https://locations.papajohns.com/united-states/nj', 'https://locations.papajohns.com/united-states/nm', 'https://locations.papajohns.com/united-states/nv', 'https://locations.papajohns.com/united-states/ny', 'https://locations.papajohns.com/united-states/oh', 'https://locations.papajohns.com/united-states/ok', 'https://locations.papajohns.com/united-states/or', 'https://locations.papajohns.com/united-states/pa', 'https://locations.papajohns.com/united-states/ri', 'https://locations.papajohns.com/united-states/sc', 'https://locations.papajohns.com/united-states/sd', 'https://locations.papajohns.com/united-states/tn', 'https://locations.papajohns.com/united-states/tx', 'https://locations.papajohns.com/united-states/ut', 'https://locations.papajohns.com/united-states/va', 'https://locations.papajohns.com/united-states/wa', 'https://locations.papajohns.com/united-states/wi', 'https://locations.papajohns.com/united-states/wv', 'https://locations.papajohns.com/united-states/wy']\n",
      "['https://locations.papajohns.com/united-states/ak', 'https://locations.papajohns.com/united-states/al', 'https://locations.papajohns.com/united-states/ar', 'https://locations.papajohns.com/united-states/az', 'https://locations.papajohns.com/united-states/ca', 'https://locations.papajohns.com/united-states/co', 'https://locations.papajohns.com/united-states/ct', 'https://locations.papajohns.com/united-states/de', 'https://locations.papajohns.com/united-states/fl', 'https://locations.papajohns.com/united-states/ga', 'https://locations.papajohns.com/united-states/hi', 'https://locations.papajohns.com/united-states/ia', 'https://locations.papajohns.com/united-states/id', 'https://locations.papajohns.com/united-states/il', 'https://locations.papajohns.com/united-states/in', 'https://locations.papajohns.com/united-states/ks', 'https://locations.papajohns.com/united-states/ky', 'https://locations.papajohns.com/united-states/la', 'https://locations.papajohns.com/united-states/ma', 'https://locations.papajohns.com/united-states/md', 'https://locations.papajohns.com/united-states/me', 'https://locations.papajohns.com/united-states/mi', 'https://locations.papajohns.com/united-states/mn', 'https://locations.papajohns.com/united-states/mo', 'https://locations.papajohns.com/united-states/ms', 'https://locations.papajohns.com/united-states/mt', 'https://locations.papajohns.com/united-states/nc', 'https://locations.papajohns.com/united-states/nd', 'https://locations.papajohns.com/united-states/ne', 'https://locations.papajohns.com/united-states/nh', 'https://locations.papajohns.com/united-states/nj', 'https://locations.papajohns.com/united-states/nm', 'https://locations.papajohns.com/united-states/nv', 'https://locations.papajohns.com/united-states/ny', 'https://locations.papajohns.com/united-states/oh', 'https://locations.papajohns.com/united-states/ok', 'https://locations.papajohns.com/united-states/or', 'https://locations.papajohns.com/united-states/pa', 'https://locations.papajohns.com/united-states/ri', 'https://locations.papajohns.com/united-states/sc', 'https://locations.papajohns.com/united-states/sd', 'https://locations.papajohns.com/united-states/tn', 'https://locations.papajohns.com/united-states/tx', 'https://locations.papajohns.com/united-states/ut', 'https://locations.papajohns.com/united-states/va', 'https://locations.papajohns.com/united-states/wa', 'https://locations.papajohns.com/united-states/wi', 'https://locations.papajohns.com/united-states/wv', 'https://locations.papajohns.com/united-states/wy']\n"
     ]
    }
   ],
   "source": [
    "print(state_html)\n",
    "state_html.remove('https://locations.papajohns.com/united-states/dc/washington')\n",
    "print(state_html)"
   ]
  },
  {
   "cell_type": "code",
   "execution_count": null,
   "metadata": {},
   "outputs": [],
   "source": [
    "print(len(state_html))\n",
    "for i in state_html:\n",
    "    print(i)"
   ]
  },
  {
   "cell_type": "code",
   "execution_count": 10,
   "metadata": {},
   "outputs": [
    {
     "data": {
      "application/vnd.jupyter.widget-view+json": {
       "model_id": "41de1a0e249b447ea4196ef1f27de53a",
       "version_major": 2,
       "version_minor": 0
      },
      "text/plain": [
       "  0%|          | 0/49 [00:00<?, ?it/s]"
      ]
     },
     "metadata": {},
     "output_type": "display_data"
    }
   ],
   "source": [
    "store_href = []\n",
    "loop = tqdm(state_html)\n",
    "\n",
    "for state in loop:\n",
    "    loop.set_description(f\"working on {state}\")\n",
    "\n",
    "    st_page = requests.get(state, headers)\n",
    "    st_soup = BeautifulSoup(st_page.content, \"html.parser\")\n",
    "    st_list = st_soup.find(class_=\"Directory-listLinks\")\n",
    "\n",
    "    for links in st_list.find_all(\"li\"):\n",
    "        g = links.find(class_=\"Directory-listLink\")\n",
    "        store_href.append(g[\"href\"])\n",
    "    sleep(0.5)"
   ]
  },
  {
   "cell_type": "code",
   "execution_count": 32,
   "metadata": {},
   "outputs": [
    {
     "name": "stdout",
     "output_type": "stream",
     "text": [
      "united-states/ak/99577/eagle-river/18600-eagle-river-rd\n"
     ]
    }
   ],
   "source": [
    "print(store_href[1][3:])"
   ]
  },
  {
   "cell_type": "code",
   "execution_count": null,
   "metadata": {},
   "outputs": [],
   "source": [
    "city_list = []\n",
    "city_list.append('united-states/dc/washington')\n",
    "for i in store_href:\n",
    "    count = i.count('/')\n",
    "    if count == 3:\n",
    "        city_list.append(i[3:])\n",
    "    elif count == 5:\n",
    "        link_dic[i[17:19]].append(loc_url+i[3:])\n",
    "print(city_list)\n"
   ]
  },
  {
   "cell_type": "code",
   "execution_count": null,
   "metadata": {},
   "outputs": [],
   "source": [
    "print(link_dic)"
   ]
  },
  {
   "cell_type": "code",
   "execution_count": null,
   "metadata": {},
   "outputs": [],
   "source": [
    "for city,n in zip(city_list,range(len(city_list))):\n",
    "    city_list[n] = loc_url+city\n",
    "print(city_list)"
   ]
  },
  {
   "cell_type": "code",
   "execution_count": 37,
   "metadata": {},
   "outputs": [
    {
     "data": {
      "application/vnd.jupyter.widget-view+json": {
       "model_id": "be68cd7e805d4a119a62df54c2e12342",
       "version_major": 2,
       "version_minor": 0
      },
      "text/plain": [
       "  0%|          | 0/379 [00:00<?, ?it/s]"
      ]
     },
     "metadata": {},
     "output_type": "display_data"
    }
   ],
   "source": [
    "final_list = []\n",
    "loop1 = tqdm(city_list)\n",
    "\n",
    "for city_store in loop1:\n",
    "    loop1.set_description(f\"working on {city_store}\")\n",
    "\n",
    "    city_page = requests.get(city_store, headers)\n",
    "    city_soup = BeautifulSoup(city_page.content, \"html.parser\")\n",
    "    cities = city_soup.find_all(class_=\"Teaser-titleLink\")\n",
    "\n",
    "    for links in cities:\n",
    "        final_list.append(links[\"href\"][2:])\n",
    "    sleep(0.5)"
   ]
  },
  {
   "cell_type": "code",
   "execution_count": 39,
   "metadata": {},
   "outputs": [
    {
     "name": "stdout",
     "output_type": "stream",
     "text": [
      "ak\n"
     ]
    }
   ],
   "source": [
    "print(final_list[9][18:20])"
   ]
  },
  {
   "cell_type": "code",
   "execution_count": 40,
   "metadata": {},
   "outputs": [],
   "source": [
    "for i in final_list:\n",
    "    link_dic[i[18:20]].append(loc_url+i[4:])"
   ]
  },
  {
   "cell_type": "code",
   "execution_count": null,
   "metadata": {},
   "outputs": [],
   "source": [
    "print(link_dic)"
   ]
  },
  {
   "cell_type": "code",
   "execution_count": 44,
   "metadata": {},
   "outputs": [
    {
     "name": "stdout",
     "output_type": "stream",
     "text": [
      "3080\n",
      "{'ak': 10, 'al': 84, 'ar': 26, 'az': 70, 'ca': 185, 'co': 48, 'ct': 5, 'dc': 9, 'de': 17, 'fl': 279, 'ga': 174, 'hi': 13, 'ia': 24, 'id': 12, 'il': 81, 'in': 132, 'ks': 35, 'ky': 101, 'la': 55, 'ma': 7, 'md': 100, 'me': 3, 'mi': 38, 'mn': 34, 'mo': 69, 'ms': 30, 'mt': 9, 'nc': 178, 'nd': 10, 'ne': 13, 'nh': 3, 'nj': 56, 'nm': 15, 'nv': 21, 'ny': 84, 'oh': 160, 'ok': 34, 'or': 14, 'pa': 84, 'ri': 4, 'sc': 73, 'sd': 6, 'tn': 110, 'tx': 296, 'ut': 28, 'va': 141, 'wa': 45, 'wi': 27, 'wv': 23, 'wy': 5}\n"
     ]
    }
   ],
   "source": [
    "key_to_value_lengths = {k:len(v) for k, v in link_dic.items()}\n",
    "print(sum([len(x) for x in link_dic.values()]))\n",
    "print(key_to_value_lengths)"
   ]
  },
  {
   "cell_type": "code",
   "execution_count": 45,
   "metadata": {},
   "outputs": [
    {
     "name": "stdout",
     "output_type": "stream",
     "text": [
      "['https://locations.papajohns.com/united-states/nm/88310-6565/alamogordo/418-south-white-sands-blvd', 'https://locations.papajohns.com/united-states/nm/87402-7635/farmington/3030-e-main-st', 'https://locations.papajohns.com/united-states/nm/87301-4869/gallup/2102-e-highway-66', 'https://locations.papajohns.com/united-states/nm/88240/hobbs/1701-joe-harvey-blvd', 'https://locations.papajohns.com/united-states/nm/87124-5911/rio-rancho/4300-ridgecrest-dr-se', 'https://locations.papajohns.com/united-states/nm/88201/roswell/625-n-main-st', 'https://locations.papajohns.com/united-states/nm/88061/silver-city/2045-highway-180-e', 'https://locations.papajohns.com/united-states/nm/87121-2020/albuquerque/110-coors-boulevard-nw', 'https://locations.papajohns.com/united-states/nm/87106-3505/albuquerque/2206-central-avenue-se', 'https://locations.papajohns.com/united-states/nm/87110-1456/albuquerque/4000-san-mateo-blvd-ne', 'https://locations.papajohns.com/united-states/nm/87123-2162/albuquerque/417-tramway-blvd-ne', 'https://locations.papajohns.com/united-states/nm/87120-5820/albuquerque/8201-golf-course-rd-nw', 'https://locations.papajohns.com/united-states/nm/87111-2577/albuquerque/9500-montgomery-blvd-ne', 'https://locations.papajohns.com/united-states/nm/88001-5408/las-cruces/1701-s-solano-dr', 'https://locations.papajohns.com/united-states/nm/88012/las-cruces/1965-bataan-memorial']\n"
     ]
    }
   ],
   "source": [
    "print(link_dic[\"nm\"])"
   ]
  },
  {
   "cell_type": "code",
   "execution_count": null,
   "metadata": {},
   "outputs": [],
   "source": [
    "with open('/Users/benperry/Documents/Python/FastFood/LinkJson/papajohns.json', 'w') as f:\n",
    "    json.dump(link_dic, f)"
   ]
  }
 ],
 "metadata": {
  "interpreter": {
   "hash": "3c45fb9862e51581e90d32eb5601e3b34a34137741e0832672dd7f3c4f079504"
  },
  "kernelspec": {
   "display_name": "Python 3.9.5 ('.venv': venv)",
   "language": "python",
   "name": "python3"
  },
  "language_info": {
   "codemirror_mode": {
    "name": "ipython",
    "version": 3
   },
   "file_extension": ".py",
   "mimetype": "text/x-python",
   "name": "python",
   "nbconvert_exporter": "python",
   "pygments_lexer": "ipython3",
   "version": "3.9.5"
  },
  "orig_nbformat": 4
 },
 "nbformat": 4,
 "nbformat_minor": 2
}
