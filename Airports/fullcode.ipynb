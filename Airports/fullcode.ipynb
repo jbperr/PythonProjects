{
 "cells": [
  {
   "cell_type": "code",
   "execution_count": null,
   "metadata": {},
   "outputs": [],
   "source": [
    "import pandas as pd\n",
    "import matplotlib.pyplot as plt\n",
    "from matplotlib.collections import LineCollection\n",
    "import json\n",
    "import math\n",
    "import csv\n",
    "import plotly.graph_objects as go"
   ]
  },
  {
   "cell_type": "code",
   "execution_count": null,
   "metadata": {},
   "outputs": [],
   "source": [
    "airdf = pd.read_csv('CSV/runways.csv')\n",
    "airdf.head()"
   ]
  },
  {
   "cell_type": "code",
   "execution_count": null,
   "metadata": {},
   "outputs": [],
   "source": [
    "airdict = airdf.set_index('id').T.to_dict('list')\n",
    "print(airdict[3632])"
   ]
  },
  {
   "cell_type": "code",
   "execution_count": null,
   "metadata": {},
   "outputs": [],
   "source": [
    "headdict = {}\n",
    "\n",
    "for i in airdict:\n",
    "    headdict[airdict[i][18]] = []\n",
    "for i in airdict:\n",
    "    headdict[airdict[i][18]].append(\n",
    "        [\n",
    "            airdict[i][0],\n",
    "            airdict[i][14],\n",
    "            airdict[i][15],\n",
    "            airdict[i][16],\n",
    "            airdict[i][17],\n",
    "            airdict[i][18],\n",
    "            airdict[i][19],\n",
    "            airdict[i][20],\n",
    "            airdict[i][23],\n",
    "            airdict[i][24],\n",
    "        ]\n",
    "    )\n"
   ]
  },
  {
   "cell_type": "code",
   "execution_count": null,
   "metadata": {},
   "outputs": [],
   "source": [
    "for i in headdict:\n",
    "    print(f\"{i}: {len(headdict[i])}\")"
   ]
  },
  {
   "cell_type": "code",
   "execution_count": null,
   "metadata": {},
   "outputs": [],
   "source": [
    "segs = []\n",
    "colors = []\n",
    "my_cmap = plt.get_cmap('jet')\n",
    "\n",
    "for i in headdict:\n",
    "    if len(headdict[i]) > 1:\n",
    "        for j in range(len(headdict[i])):\n",
    "            x1 = headdict[i][j][7]\n",
    "            y1 = headdict[i][j][6]\n",
    "            x2 = headdict[i][j][9]\n",
    "            y2 = headdict[i][j][8]\n",
    "            c = headdict[i][j][5]\n",
    "\n",
    "            colors.append(my_cmap(c))\n",
    "            segs.append(((x1, y1), (x2, y2)))\n",
    "\n",
    "fig, ax = plt.subplots()\n",
    "ax.set_xlim(-180, 180)\n",
    "ax.set_ylim(-90, 90)\n",
    "\n",
    "ln_coll = LineCollection(segs, colors=colors, linestyle='solid')\n",
    "\n",
    "ax.add_collection(ln_coll)\n",
    "fig.set_size_inches(20, 10)\n",
    "fig.set_dpi(700)\n",
    "\n",
    "plt.show()"
   ]
  },
  {
   "cell_type": "code",
   "execution_count": null,
   "metadata": {},
   "outputs": [],
   "source": [
    "with open('JSON/headings.json', 'w') as file:\n",
    "    file.write(json.dumps(headdict))"
   ]
  },
  {
   "cell_type": "code",
   "execution_count": null,
   "metadata": {},
   "outputs": [],
   "source": [
    "with open(\"headings.json\", \"r\") as h:\n",
    "    headdict = json.load(h)"
   ]
  },
  {
   "cell_type": "code",
   "execution_count": null,
   "metadata": {},
   "outputs": [],
   "source": [
    "RADIUS = 0.001\n",
    "inter = []\n",
    "touch = []\n",
    "outside = []\n",
    "entrylst = []\n",
    "enddict = {}"
   ]
  },
  {
   "cell_type": "code",
   "execution_count": null,
   "metadata": {},
   "outputs": [],
   "source": [
    "def checkCollision(a, b, c, x, y, radius, entr1, entr2):\n",
    "\n",
    "    dist = (abs(a * x + b * y + c)) / math.sqrt(a * a + b * b)\n",
    "\n",
    "    if radius == dist:\n",
    "        touch.append(1)\n",
    "        entrylst.append([entr1, entr2])\n",
    "    elif radius > dist:\n",
    "        inter.append(1)\n",
    "        if entr1[0] != entr2[0]:\n",
    "            entrylst.append([entr1, entr2])\n",
    "    else:\n",
    "        outside.append(1)"
   ]
  },
  {
   "cell_type": "code",
   "execution_count": null,
   "metadata": {},
   "outputs": [],
   "source": [
    "for heading in range(1, len(headdict) + 1):\n",
    "    cur_heading = headdict[str(heading)]\n",
    "    for i in range(0, len(cur_heading)):\n",
    "        x = cur_heading[i][4]\n",
    "        y = cur_heading[i][3]\n",
    "        entr1 = cur_heading[i]\n",
    "\n",
    "        for k in range(0, len(cur_heading)):\n",
    "            a = cur_heading[k][1]\n",
    "            b = -1\n",
    "            c = cur_heading[k][2]\n",
    "            entr2 = cur_heading[k]\n",
    "\n",
    "            checkCollision(a, b, c, x, y, RADIUS, entr1, entr2)\n",
    "            \n",
    "print(f\"touch:{len(touch)}\\ninter:{len(inter)}\\noutside:{len(outside)}\")\n",
    "print(len(entrylst))\n"
   ]
  },
  {
   "cell_type": "code",
   "execution_count": null,
   "metadata": {},
   "outputs": [],
   "source": [
    "for i in entrylst:\n",
    "    enddict[i[0][5]] = []\n",
    "\n",
    "for i in entrylst:\n",
    "    enddict[i[0][5]].append(i)"
   ]
  },
  {
   "cell_type": "code",
   "execution_count": null,
   "metadata": {},
   "outputs": [],
   "source": [
    "print(enddict[1][1])"
   ]
  },
  {
   "cell_type": "code",
   "execution_count": null,
   "metadata": {},
   "outputs": [],
   "source": [
    "with open(\"JSON/intersecting.json\", \"w\") as l:\n",
    "    json.dump(enddict, l)"
   ]
  },
  {
   "cell_type": "code",
   "execution_count": null,
   "metadata": {},
   "outputs": [],
   "source": [
    "with open('JSON/intersecting.json','r') as f:\n",
    "    headingdict = json.load(f)"
   ]
  },
  {
   "cell_type": "code",
   "execution_count": null,
   "metadata": {},
   "outputs": [],
   "source": [
    "print(headingdict[\"1\"][0][0][0],headingdict[\"1\"][0][0][4])\n",
    "print(headingdict[\"1\"][0][1][3],headingdict[\"1\"][0][1][4])"
   ]
  },
  {
   "cell_type": "code",
   "execution_count": null,
   "metadata": {},
   "outputs": [],
   "source": [
    "segs2 = []\n",
    "\n",
    "for heading in range(len(headingdict)):\n",
    "    for i in headingdict[str(heading+1)]:\n",
    "        code = i[0][0]\n",
    "        x1 = i[0][4]\n",
    "        y1 = i[0][3]\n",
    "        code2 = i[1][0]\n",
    "        x2 = i[1][4]\n",
    "        y2 = i[1][3]\n",
    "\n",
    "        segs2.append([code,x1,y1,code2,x2,y2])"
   ]
  },
  {
   "cell_type": "code",
   "execution_count": null,
   "metadata": {},
   "outputs": [],
   "source": [
    "print(segs2[1])"
   ]
  },
  {
   "cell_type": "code",
   "execution_count": null,
   "metadata": {},
   "outputs": [],
   "source": [
    "fields = ['airport1','x1', 'y1','airport2', 'x2', 'y2'] \n",
    "\n",
    "with open('CSV/intersect.csv', 'w') as f:\n",
    "    write = csv.writer(f)\n",
    "      \n",
    "    write.writerow(fields)\n",
    "    write.writerows(segs2)"
   ]
  },
  {
   "cell_type": "code",
   "execution_count": null,
   "metadata": {},
   "outputs": [],
   "source": [
    "with open('CSV/intersect-reviewed - intersect.csv', newline='') as f:\n",
    "    reader = csv.reader(f)\n",
    "    data = list(reader)\n",
    "\n",
    "print(data[50])"
   ]
  },
  {
   "cell_type": "code",
   "execution_count": null,
   "metadata": {},
   "outputs": [],
   "source": [
    "df = pd.read_csv('CSV/airport-code.csv')\n",
    "df.head()"
   ]
  },
  {
   "cell_type": "code",
   "execution_count": null,
   "metadata": {},
   "outputs": [],
   "source": [
    "for entry in range(1,len(data)):\n",
    "\n",
    "    airport1 = data[entry][0]\n",
    "    airport2 = data[entry][3]\n",
    "\n",
    "    search1 = df[df['ident'] == airport1]\n",
    "    search2 = df[df['ident'] == airport2]\n",
    "\n",
    "    city1 = search1['locale'].item()\n",
    "    city2 = search2['locale'].item()\n",
    "\n",
    "    data[entry][6] = city1\n",
    "    data[entry][7] = city2\n",
    "\n",
    "print(data[1])"
   ]
  },
  {
   "cell_type": "code",
   "execution_count": null,
   "metadata": {},
   "outputs": [],
   "source": [
    "fields = data[0]\n",
    "    \n",
    "rows = data[1:]\n",
    "  \n",
    "with open('CSV/intersectingcitys.csv', 'w') as f:\n",
    "      \n",
    "    # using csv.writer method from CSV package\n",
    "    write = csv.writer(f)\n",
    "      \n",
    "    write.writerow(fields)\n",
    "    write.writerows(rows)"
   ]
  },
  {
   "cell_type": "code",
   "execution_count": null,
   "metadata": {},
   "outputs": [],
   "source": [
    "df = pd.read_csv(\"CSV/citytocity.csv\")\n",
    "df.head()"
   ]
  },
  {
   "cell_type": "code",
   "execution_count": null,
   "metadata": {},
   "outputs": [],
   "source": [
    "fig = go.Figure()\n",
    "\n",
    "source_to_dest = zip(\n",
    "    df[\"y1\"],\n",
    "    df[\"y2\"],\n",
    "    df[\"x1\"],\n",
    "    df[\"x2\"],\n",
    ")\n",
    "\n",
    "## Loop thorugh each flight entry to add line between source and destination\n",
    "for slat, dlat, slon, dlon in source_to_dest:\n",
    "    fig.add_trace(\n",
    "        go.Scattergeo(\n",
    "            lat=[slat, dlat],\n",
    "            lon=[slon, dlon],\n",
    "            mode=\"lines\",\n",
    "            line=dict(width=1, color=\"red\"),\n",
    "            # hovertext=\"none\"\n",
    "        )\n",
    "    )\n",
    "\n",
    "cities = df[\"airport1\"].values.tolist()+df[\"airport2\"].values.tolist()\n",
    "countries = df[\"city to city\"].values.tolist()\n",
    "scatter_hover_data = [country + \" : \"+ city for city, country in zip(cities, countries)]\n",
    "\n",
    "## Loop thorugh each flight entry to plot source and destination as points.\n",
    "fig.add_trace(\n",
    "    go.Scattergeo(\n",
    "        lon=df[\"x1\"].values.tolist() + df[\"x2\"].values.tolist(),\n",
    "        lat=df[\"y1\"].values.tolist() + df[\"y2\"].values.tolist(),\n",
    "        hoverinfo=\"text\",\n",
    "        text=scatter_hover_data,\n",
    "        mode=\"markers\",\n",
    "        marker=dict(size=5, color=\"blue\", opacity=0.1),\n",
    "    )\n",
    ")\n",
    "\n",
    "## Update graph layout to improve graph styling.\n",
    "fig.update_layout(\n",
    "    title_text=\"Airport to Airport\",\n",
    "    margin={\"t\": 0, \"b\": 0, \"l\": 0, \"r\": 0, \"pad\": 0},\n",
    "    showlegend=False,\n",
    "    geo=dict(\n",
    "        showland=True,\n",
    "        landcolor=\"white\",\n",
    "        countrycolor=\"grey\",\n",
    "        bgcolor=\"lightgrey\",\n",
    "        projection_type=\"orthographic\",\n",
    "        showcountries=True,\n",
    "        projection_rotation={\"lon\":-90,\"lat\":15},\n",
    "    ),\n",
    ")\n",
    "\n",
    "fig.show()"
   ]
  }
 ],
 "metadata": {
  "interpreter": {
   "hash": "81d7e497185fbdfb7c5dddfa65f2b8861cb29845feb4c8377c1da5e82e1f2050"
  },
  "kernelspec": {
   "display_name": "Python 3.9.5 ('.venv': venv)",
   "language": "python",
   "name": "python3"
  },
  "language_info": {
   "codemirror_mode": {
    "name": "ipython",
    "version": 3
   },
   "file_extension": ".py",
   "mimetype": "text/x-python",
   "name": "python",
   "nbconvert_exporter": "python",
   "pygments_lexer": "ipython3",
   "version": "3.9.5"
  },
  "orig_nbformat": 4
 },
 "nbformat": 4,
 "nbformat_minor": 2
}
