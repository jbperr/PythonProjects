{
 "cells": [
  {
   "cell_type": "code",
   "execution_count": null,
   "metadata": {},
   "outputs": [],
   "source": [
    "import matplotlib\n",
    "import matplotlib.pyplot as plt\n",
    "from matplotlib.collections import LineCollection\n",
    "from matplotlib import colors as mcolors\n",
    "import numpy as np\n",
    "import json\n",
    "import pandas as pd\n"
   ]
  },
  {
   "cell_type": "code",
   "execution_count": null,
   "metadata": {},
   "outputs": [],
   "source": [
    "with open('intersecting.json','r') as f:\n",
    "    headdict = json.load(f)"
   ]
  },
  {
   "cell_type": "code",
   "execution_count": null,
   "metadata": {},
   "outputs": [],
   "source": [
    "print(headdict[\"1\"][0][0][0],headdict[\"1\"][0][0][4])\n",
    "print(headdict[\"1\"][0][1][3],headdict[\"1\"][0][1][4])"
   ]
  },
  {
   "cell_type": "code",
   "execution_count": null,
   "metadata": {},
   "outputs": [],
   "source": [
    "segs = []\n",
    "segs2 = []\n",
    "colors = []\n",
    "my_cmap = plt.get_cmap('jet')\n",
    "\n",
    "for heading in range(len(headdict)):\n",
    "    for i in headdict[str(heading+1)]:\n",
    "        x1 = i[0][4]\n",
    "        y1 = i[0][3]\n",
    "        x2 = i[1][4]\n",
    "        y2 = i[1][3]\n",
    "        code = i[0][0]\n",
    "        code2 = i[1][0]\n",
    "        c = i[0][5]\n",
    "\n",
    "        colors.append(my_cmap(c))\n",
    "        segs.append(((x1, y1), (x2, y2)))\n",
    "        segs2.append([code,x1,y1,code2,x2,y2])\n",
    "\n",
    "\n",
    "fig, ax = plt.subplots()\n",
    "ax.set_xlim(-180, 180)\n",
    "ax.set_ylim(-90, 90)\n",
    "\n",
    "ln_coll = LineCollection(segs, colors=colors, linestyle='solid')\n",
    "\n",
    "# ax = plt.gca()\n",
    "ax.add_collection(ln_coll)\n",
    "fig.set_size_inches(20, 10)\n",
    "fig.set_dpi(700)\n",
    "\n",
    "plt.show()"
   ]
  },
  {
   "cell_type": "code",
   "execution_count": null,
   "metadata": {},
   "outputs": [],
   "source": [
    "print(segs2)"
   ]
  },
  {
   "cell_type": "code",
   "execution_count": null,
   "metadata": {},
   "outputs": [],
   "source": [
    "import csv\n",
    "\n",
    "fields = ['airport1','x1', 'y1','airport2', 'x2', 'y2'] \n",
    "\n",
    "with open('intersect.csv', 'w') as f:\n",
    "      \n",
    "    # using csv.writer method from CSV package\n",
    "    write = csv.writer(f)\n",
    "      \n",
    "    write.writerow(fields)\n",
    "    write.writerows(segs2)\n"
   ]
  },
  {
   "cell_type": "code",
   "execution_count": null,
   "metadata": {},
   "outputs": [],
   "source": [
    "df = pd.read_csv('intersect.csv')"
   ]
  },
  {
   "cell_type": "code",
   "execution_count": null,
   "metadata": {},
   "outputs": [],
   "source": [
    "df"
   ]
  },
  {
   "cell_type": "code",
   "execution_count": null,
   "metadata": {},
   "outputs": [],
   "source": [
    "import pandas as pd\n",
    "import numpy as np\n",
    "import plotly.offline as pyo\n",
    "import plotly.graph_objs as go\n",
    "\n",
    "# Create a dataframe\n",
    "\n",
    "my_range=range(1,len(df.index)+1)\n",
    "\n",
    "# Add title and axis names\n",
    "data1 = go.Scatter(\n",
    "        x=df['x1'],\n",
    "        y=df['y1'],\n",
    "        mode='markers',\n",
    "        marker=dict(color='blue')\n",
    "    )\n",
    "\n",
    "\n",
    "data2 = go.Scatter(\n",
    "        x=df['x2'],\n",
    "        y=df['y1'],\n",
    "        mode='markers',\n",
    "        marker=dict(color='blue')\n",
    "    )\n",
    "\n",
    "# Horizontal line shape\n",
    "shapes=[dict(\n",
    "        type='line',\n",
    "        x0 = df['x1'].loc[i],\n",
    "        y0 = df['y1'].loc[i],\n",
    "        x1 = df['x2'].loc[i],\n",
    "        y1 = df['y2'].loc[i],\n",
    "        line = dict(\n",
    "            color = 'grey',\n",
    "            width = 2\n",
    "        )\n",
    "    ) for i in range(len(df['x1']))]\n",
    "\n",
    "\n",
    "layout = go.Layout(\n",
    "    shapes = shapes,\n",
    "    title='WIP',\n",
    ")\n",
    "\n",
    "# Plot the chart\n",
    "fig = go.Figure([data1, data2], layout)\n",
    "\n",
    "pyo.plot(fig)\n",
    "fig.write_html('airports.html')"
   ]
  }
 ],
 "metadata": {
  "interpreter": {
   "hash": "aee8b7b246df8f9039afb4144a1f6fd8d2ca17a180786b69acc140d282b71a49"
  },
  "kernelspec": {
   "display_name": "Python 3.9.5 64-bit",
   "language": "python",
   "name": "python3"
  },
  "language_info": {
   "codemirror_mode": {
    "name": "ipython",
    "version": 3
   },
   "file_extension": ".py",
   "mimetype": "text/x-python",
   "name": "python",
   "nbconvert_exporter": "python",
   "pygments_lexer": "ipython3",
   "version": "3.9.7"
  },
  "orig_nbformat": 4
 },
 "nbformat": 4,
 "nbformat_minor": 2
}
